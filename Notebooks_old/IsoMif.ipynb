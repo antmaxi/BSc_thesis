{
 "cells": [
  {
   "cell_type": "markdown",
   "metadata": {},
   "source": [
    "Initialisation for IsoMIF"
   ]
  },
  {
   "cell_type": "code",
   "execution_count": 13,
   "metadata": {},
   "outputs": [],
   "source": [
    "import subprocess\n",
    "from pathlib import Path\n",
    "import os\n",
    "\n",
    "def make_dir(dirList):\n",
    "    for dirName in dirList:\n",
    "        if not os.path.exists(dirName):\n",
    "            os.mkdir(dirName)\n",
    "            print(\"Directory \" , dirName ,  \" Created \")\n",
    "        else:\n",
    "            pass\n",
    "            #print(\"Directory \" , dirName ,  \" already exists\")\n",
    "\n",
    "def cmd(command):\n",
    "    subprocess.check_output(command, shell=True)\n",
    "\n",
    "def make_hive(ROOT):\n",
    "    \"\"\"\n",
    "    Create all needed directories\n",
    "    \"\"\"\n",
    "    List = []\n",
    "    List.append(ROOT / 'hive')\n",
    "    for last_name in ('clefts', 'match', 'matchView', 'mifs', 'mifView', 'pdb'):\n",
    "        List.append(ROOT / 'hive' / last_name)\n",
    "    make_dir(List)\n",
    "    \n",
    "    \n",
    "ROOT = Path('.')\n",
    "\n",
    "HIVE = ROOT / 'hive'\n",
    "GSL_PATH = Path('/media/anton/b8150e49-6ff0-467b-ad66-40347e8bb188/anton/BACHELOR/gsl')\n",
    "PDB_PATH = ROOT / 'hive' / 'pdb'\n",
    "GET_CLEFT_PATH = ROOT / 'Get_Cleft-master'\n",
    "ISOMIF_PATH = ROOT / 'IsoMif-master'\n",
    "\n",
    "SYSTEM_NAME = 'linux_x86_64'\n",
    "REDUCE_PATH = ISOMIF_PATH / 'reduce.3.23.130521'\n",
    "MIF_NAME = 'mif_' + SYSTEM_NAME + '_compiled'\n",
    "ISOMIF_NAME = 'isomif_' + SYSTEM_NAME + '_compiled'"
   ]
  },
  {
   "cell_type": "code",
   "execution_count": 3,
   "metadata": {},
   "outputs": [],
   "source": [
    "make_hive(ROOT)"
   ]
  },
  {
   "cell_type": "markdown",
   "metadata": {},
   "source": [
    "downloading pdbs from uniprot id"
   ]
  },
  {
   "cell_type": "code",
   "execution_count": 52,
   "metadata": {},
   "outputs": [],
   "source": [
    "import pandas as pd\n",
    "import os\n",
    "import requests\n",
    "from pathlib import Path\n",
    "\n",
    "def download_url(url, path, name):\n",
    "    ''' saving from url to path/name, making path directory, if not existed\n",
    "    '''\n",
    "    r = requests.get(url, allow_redirects=True)\n",
    "    paths = []\n",
    "    paths.append(str(path))\n",
    "    make_dir(paths)\n",
    "    open(os.path.join(paths[0], name), 'wb').write(r.content)\n",
    "    \n",
    "    \n",
    "Uniprot_list = ('P00533', 'A0A023GPJ0')\n",
    "for uniprot in Uniprot_list:\n",
    "    # get list of .pdb including this uniprot\n",
    "    path_uniprot = str(PDB_PATH / uniprot)\n",
    "    name = uniprot + '_pdbs.txt'\n",
    "    url = 'https://www.uniprot.org/uploadlists/?from=ID&to=PDB_ID&format=list&query=' + uniprot\n",
    "    download_url(url, path_uniprot, name)\n",
    "    full_name = os.path.join(path_uniprot, name)\n",
    "    \n",
    "    #\n",
    "    df = pd.read_csv(full_name, sep=\" \", header=None)\n",
    "    for index, pdb in df.iterrows():\n",
    "        name = pdb[0] + \".pdb\"\n",
    "        full_name = os.path.join(path_uniprot, name)\n",
    "        url = \"https://files.rcsb.org/download/\" + pdb[0] + \".pdb\"\n",
    "        \n",
    "        config = Path(full_name)\n",
    "        # checking if .pdb is already downloaded, if not - downloading\n",
    "        if not config.is_file():\n",
    "            download_url(url, path_uniprot, name)"
   ]
  },
  {
   "cell_type": "markdown",
   "metadata": {},
   "source": [
    "# IsoMIF part"
   ]
  },
  {
   "cell_type": "markdown",
   "metadata": {},
   "source": [
    "## Compilation of all in IsoMif"
   ]
  },
  {
   "cell_type": "code",
   "execution_count": 2,
   "metadata": {},
   "outputs": [],
   "source": [
    "# compile Get Cleft\n",
    "cmd('gcc ' + str(GET_CLEFT_PATH / \"Get_Cleft.c\") + ' -o Get_Cleft -O3 -lm')\n",
    "\n",
    "# compile mif and isomif for linux_x86_64, needs path to gsl\n",
    "cmd('g++ ' + str(ISOMIF_PATH / 'mif.cpp') + ' -o ' + str(ISOMIF_PATH / MIF_NAME) + '-O3 -lm')\n",
    "cmd('g++ ' + str(ISOMIF_PATH / 'isomif.cpp') + ' -o ' + str(ISOMIF_PATH / ISOMIF_NAME) + \\\n",
    "    ' -O3 -lm -lgsl -lgslcblas -L' +  str(GSL_PATH / 'lib') + ' -I ' + str(GSL_PATH /'include'))"
   ]
  },
  {
   "cell_type": "markdown",
   "metadata": {},
   "source": [
    "## Finding N the biggest cavities"
   ]
  },
  {
   "cell_type": "code",
   "execution_count": 9,
   "metadata": {},
   "outputs": [],
   "source": [
    "N_cavities = 3\n",
    "pdbs = ['1E8X', '1RDQ']\n",
    "for pdb in pdbs:\n",
    "    cmd(str(GET_CLEFT_PATH / 'Get_Cleft') + ' -p ' + str(PDB_PATH / (pdb +'.pdb')) + ' -o ' + \\\n",
    "        str(HIVE / 'clefts' / pdb) + ' -s -t ' + str(N_cavities))"
   ]
  },
  {
   "cell_type": "markdown",
   "metadata": {},
   "source": [
    "with selection of the contact residue"
   ]
  },
  {
   "cell_type": "code",
   "execution_count": 34,
   "metadata": {},
   "outputs": [
    {
     "name": "stdout",
     "output_type": "stream",
     "text": [
      "1E8X ATP3000A-\n",
      "1RDQ ATP600EB\n"
     ]
    }
   ],
   "source": [
    "pdbs = ['1E8X', '1RDQ']\n",
    "ligands = ['ATP3000A-', 'ATP600EB']\n",
    "\n",
    "# make clefts\n",
    "#./Get_Cleft-master/Get_Cleft -p ./hive/pdb/1E8X.pdb -o ./hive/clefts/1E8X -s -t 5 \n",
    "for (pdb, lig) in zip(pdbs, ligands):\n",
    "    print(pdb, lig)\n",
    "    cmd(str(GET_CLEFT_PATH / 'Get_Cleft') + ' -p ' + str(PDB_PATH / (pdb +'.pdb')) + ' -o ' + \\\n",
    "            str(HIVE / 'clefts' / pdb) + ' -s -a ' + lig)"
   ]
  },
  {
   "cell_type": "markdown",
   "metadata": {},
   "source": [
    "## Add hydrogens"
   ]
  },
  {
   "cell_type": "code",
   "execution_count": 36,
   "metadata": {},
   "outputs": [],
   "source": [
    "# add hydrogens\n",
    "for pdb in pdbs:\n",
    "    cmd(str(REDUCE_PATH) + ' -p ' + str(PDB_PATH / (pdb + '.pdb')) + ' > ' + str(PDB_PATH / (pdb + 'h.pdb')))"
   ]
  },
  {
   "cell_type": "markdown",
   "metadata": {},
   "source": [
    "## Calculating MIF"
   ]
  },
  {
   "cell_type": "markdown",
   "metadata": {},
   "source": [
    "if knowing residue"
   ]
  },
  {
   "cell_type": "code",
   "execution_count": 41,
   "metadata": {},
   "outputs": [],
   "source": [
    "# calculate MIF\n",
    "k = 0 # make search by suffix?\n",
    "for (pdb, lig) in zip(pdbs, ligands):\n",
    "    k += 1\n",
    "    cmd(str(ISOMIF_PATH / MIF_NAME) + ' -p ' + str(PDB_PATH / (pdb + 'h.pdb')) + ' -g ' + \\\n",
    "        str(HIVE / 'clefts' / (pdb + '_' + lig + '_sph_' + str(k) + '.pdb')) + ' -o ' + \\\n",
    "        str(HIVE / 'mifs') + ' -l ' + lig + ' -r 3 -t ' + pdb)"
   ]
  },
  {
   "cell_type": "markdown",
   "metadata": {},
   "source": [
    "with grid accuracy, resolution \n",
    "\n",
    "0 - 2 Angstroms \n",
    "\n",
    "1 - 1.5 Angstroms \n",
    "\n",
    "2 - 1.0 Angstroms \n",
    "\n",
    "3 - 0.5 Angstroms"
   ]
  },
  {
   "cell_type": "code",
   "execution_count": 12,
   "metadata": {},
   "outputs": [],
   "source": [
    "# calculate MIF\n",
    "#k = 0 # make search by suffix?\n",
    "for pdb in pdbs:\n",
    "    for i in range(1, N_cavities):\n",
    "        cmd(str(ISOMIF_PATH / MIF_NAME) + ' -p ' + str(PDB_PATH / (pdb + 'h.pdb')) + ' -g ' + \\\n",
    "            str(HIVE / 'clefts' / (pdb + '_sph_' + str(i) + '.pdb')) + ' -o ' + \\\n",
    "            str(HIVE / 'mifs') + ' z  1')\n",
    "        # file for visualisation\n",
    "        cmd('perl ' + str(ISOMIF_PATH / 'mifView.pl') + ' -m ' + str(HIVE / 'mifs' / (pdb + 'h.mif')) \\\n",
    "           + ' -o ' + str(HIVE / 'mifView'))"
   ]
  },
  {
   "cell_type": "markdown",
   "metadata": {},
   "source": [
    "## Calculating IsoMIF"
   ]
  },
  {
   "cell_type": "code",
   "execution_count": 58,
   "metadata": {},
   "outputs": [],
   "source": [
    "# calculate ISOMIF\n",
    "pdbh1 = '1E8Xh'\n",
    "pdbh2 = '1RDQh'\n",
    "cmd(str(ISOMIF_PATH / ISOMIF_NAME) \\\n",
    "    + ' -p1 ' + str(HIVE / 'mifs' / (pdbh1 + '.mif')) \\\n",
    "    + ' -p2 ' + str(HIVE / 'mifs' / (pdbh2 + '.mif')) + ' -o ' + os.path.join(str(HIVE / 'match'), '') + ' -c 1 -d 2.0')"
   ]
  },
  {
   "cell_type": "code",
   "execution_count": 59,
   "metadata": {},
   "outputs": [
    {
     "name": "stdout",
     "output_type": "stream",
     "text": [
      "hive/match/1E8Xh_match_1RDQh.isomif\n"
     ]
    }
   ],
   "source": [
    "print(str(HIVE / 'match' / (pdbh1 + '_match_' + pdbh2 + '.isomif')))\n",
    "cmd('perl ' + str(ISOMIF_PATH / 'isoMifView.pl') + ' -m ' \\\n",
    "    + str(HIVE / 'match' / (pdbh1 + '_match_' + pdbh2 + '.isomif')) + ' -o ' \\\n",
    "    + os.path.join(str(HIVE / 'matchView'), '') + ' -g 1')"
   ]
  },
  {
   "cell_type": "markdown",
   "metadata": {},
   "source": [
    "Find Morimoto coefficient from file"
   ]
  },
  {
   "cell_type": "code",
   "execution_count": 73,
   "metadata": {},
   "outputs": [
    {
     "name": "stdout",
     "output_type": "stream",
     "text": [
      "0.0369\n"
     ]
    }
   ],
   "source": [
    "import mmap\n",
    "\n",
    "with open(str(HIVE / 'match' / '1E8Xh_match_1RDQh.isomif'), 'rb', 0) as file, \\\n",
    "     mmap.mmap(file.fileno(), 0, access=mmap.ACCESS_READ) as s:\n",
    "    if s.find(b'TANIM') != -1:\n",
    "        pos = s.find(b'TANIM')\n",
    "        tanim = float(s[pos+6 : pos+12].decode(\"utf-8\"))"
   ]
  },
  {
   "cell_type": "code",
   "execution_count": null,
   "metadata": {},
   "outputs": [],
   "source": []
  }
 ],
 "metadata": {
  "kernelspec": {
   "display_name": "Python 3",
   "language": "python",
   "name": "python3"
  },
  "language_info": {
   "codemirror_mode": {
    "name": "ipython",
    "version": 3
   },
   "file_extension": ".py",
   "mimetype": "text/x-python",
   "name": "python",
   "nbconvert_exporter": "python",
   "pygments_lexer": "ipython3",
   "version": "3.7.3"
  }
 },
 "nbformat": 4,
 "nbformat_minor": 2
}
