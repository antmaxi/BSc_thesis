{
 "cells": [
  {
   "cell_type": "markdown",
   "metadata": {},
   "source": [
    "## Sequence similiarity"
   ]
  },
  {
   "cell_type": "code",
   "execution_count": 2,
   "metadata": {},
   "outputs": [
    {
     "name": "stdout",
     "output_type": "stream",
     "text": [
      "Available matrices: ['benner6', 'benner22', 'benner74', 'blosum100', 'blosum30', 'blosum35', 'blosum40', 'blosum45', 'blosum50', 'blosum55', 'blosum60', 'blosum62', 'blosum65', 'blosum70', 'blosum75', 'blosum80', 'blosum85', 'blosum90', 'blosum95', 'feng', 'fitch', 'genetic', 'gonnet', 'grant', 'ident', 'johnson', 'levin', 'mclach', 'miyata', 'nwsgappep', 'pam120', 'pam180', 'pam250', 'pam30', 'pam300', 'pam60', 'pam90', 'rao', 'risler', 'structure']\n",
      "Which one would you like to use? Type [Enter] to use blosum62\n",
      "\n",
      "blosum62\n",
      "Number of alignments = 1\n",
      "TTCCGGTTCCGGAA--\n",
      "  ||||||||||||  \n",
      "--CCGGTTCCGGAATT\n",
      "  Score=57\n",
      "\n",
      "Similiarity = 57.0\n",
      "Identity = 12\n"
     ]
    }
   ],
   "source": [
    "from Bio import pairwise2\n",
    "from Bio import SeqIO\n",
    "from Bio.SubsMat.MatrixInfo import *\n",
    "import Bio.SubsMat.MatrixInfo\n",
    "print('Available matrices:', Bio.SubsMat.MatrixInfo.available_matrices)\n",
    "print('Which one would you like to use? Type [Enter] to use blosum62')\n",
    "align_matr = input()\n",
    "if align_matr == \"\":\n",
    "    align_matr = \"blosum62\"\n",
    "print(align_matr)\n",
    "seq1 = SeqIO.read(\"/home/anton/programs/ncbi-blast-2.8.1+/bin/1.faa\", \"fasta\")\n",
    "seq2 = SeqIO.read(\"/home/anton/programs/ncbi-blast-2.8.1+/bin/2.faa\", \"fasta\")\n",
    "alignments = pairwise2.align.globalds(seq1.seq, seq2.seq, blosum62, -10, -0.5)\n",
    "alignments_id = pairwise2.align.globalms(seq1.seq, seq2.seq, 1, 0, 0, 0)\n",
    "print(\"Number of alignments = \" + str(len(alignments)))\n",
    "print(pairwise2.format_alignment(*alignments[0]))\n",
    "print(\"Similiarity = \" + str(alignments[0][2]))\n",
    "print(\"Identity = \" + str(alignments_id[0][2]).split('.')[0])"
   ]
  },
  {
   "cell_type": "raw",
   "metadata": {},
   "source": [
    "\n"
   ]
  },
  {
   "cell_type": "code",
   "execution_count": 9,
   "metadata": {},
   "outputs": [
    {
     "name": "stdout",
     "output_type": "stream",
     "text": [
      "['__builtins__', '__cached__', '__doc__', '__file__', '__loader__', '__name__', '__package__', '__spec__', 'available_matrices', 'benner22', 'benner6', 'benner74', 'blosum100', 'blosum30', 'blosum35', 'blosum40', 'blosum45', 'blosum50', 'blosum55', 'blosum60', 'blosum62', 'blosum65', 'blosum70', 'blosum75', 'blosum80', 'blosum85', 'blosum90', 'blosum95', 'feng', 'fitch', 'genetic', 'gonnet', 'grant', 'ident', 'johnson', 'levin', 'mclach', 'miyata', 'nwsgappep', 'pam120', 'pam180', 'pam250', 'pam30', 'pam300', 'pam60', 'pam90', 'rao', 'risler', 'structure']\n"
     ]
    }
   ],
   "source": [
    "import Bio.SubsMat.MatrixInfo\n",
    "print(dir(Bio.SubsMat.MatrixInfo))"
   ]
  },
  {
   "cell_type": "markdown",
   "metadata": {},
   "source": [
    "## NDC"
   ]
  },
  {
   "cell_type": "code",
   "execution_count": 1,
   "metadata": {},
   "outputs": [],
   "source": [
    "import numpy as np\n",
    "import requests\n",
    "import os\n",
    "#import pygtop # API for IUPHAR\n",
    "import datetime\n",
    "import zipfile\n",
    "import csv\n",
    "import json\n",
    "import pandas as pd"
   ]
  },
  {
   "cell_type": "code",
   "execution_count": 1,
   "metadata": {},
   "outputs": [
    {
     "name": "stdout",
     "output_type": "stream",
     "text": [
      "Directory /media/anton/b8150e49-6ff0-467b-ad66-40347e8bb188/anton/FDA failed (maybe exists)\n"
     ]
    }
   ],
   "source": [
    "\n",
    "\n",
    "#def json_change_field(param_file, field, value_new):\n",
    "    \n",
    "param_file = 'param.json'\n",
    "fda_folder = '/media/anton/b8150e49-6ff0-467b-ad66-40347e8bb188/anton/FDA'\n",
    "try:  \n",
    "    os.mkdir(os.path.join(fda_folder, \"Data\"))\n",
    "except OSError:  \n",
    "    print (\"Directory %s failed (maybe exists)\" % fda_folder)\n",
    "else:  \n",
    "    print (\"Successfully created the directory %s \" % fda_folder)\n",
    "    \n",
    "with open(os.path.join(fda_folder, param_file), \"r\") as f:\n",
    "    param_data = json.load(f)\n",
    "    ndc_date = param_data[\"ndc_last_updated\"] #in future - from file\n",
    "URL_1 = \"https://api.fda.gov/drug/ndc.json\"\n",
    "ndc_data = requests.get(URL_1).json()\n",
    "ndc_date_new = ndc_data[\"meta\"][\"last_updated\"]\n",
    "ndc_file = 'drug-ndc-0001-of-0001.json'\n",
    "if ndc_date != ndc_date_new:     \n",
    "    url_file = \"https://download.open.fda.gov/drug/ndc/drug-ndc-0001-of-0001.json.zip\"\n",
    "\n",
    "    r = requests.get(url_file, allow_redirects=True)\n",
    "    fda_path =  os.path.join(fda_folder, url_file.split('/')[-1])\n",
    "    print(\"Downloading \" + url_file.split(\"/\")[-1])\n",
    "    open(fda_path, 'wb').write(r.content)\n",
    "\n",
    "    with zipfile.ZipFile(fda_path, 'r') as zip_ref:\n",
    "        print(\"Extracting \" + url_file.split(\"/\")[-1])\n",
    "        zip_ref.extractall(fda_folder)\n",
    "    try:\n",
    "        os.remove(fda_path)\n",
    "    except:\n",
    "        print(\"Error while deleting file \", fda_path)\n",
    "    print(\"NDC downloaded, last update {ndc_date_new}\".format(ndc_date_new=ndc_date_new))\n",
    "\n",
    "    with open(os.path.join(fda_folder, param_file)) as f:\n",
    "        param_data = json.load(f)\n",
    "        param_data[\"ndc_last_updated\"] = ndc_date_new\n",
    "        with open(os.path.join(fda_folder, param_file), \"w\") as jsonFile:\n",
    "            json.dump(param_data, jsonFile)"
   ]
  },
  {
   "cell_type": "code",
   "execution_count": 17,
   "metadata": {},
   "outputs": [],
   "source": [
    "drugs = pd.read_csv(\"/media/anton/b8150e49-6ff0-467b-ad66-40347e8bb188/anton/FDA/Data/unii_inchikey.csv\", sep=',', lineterminator='\\n', header=0)"
   ]
  },
  {
   "cell_type": "code",
   "execution_count": 3,
   "metadata": {},
   "outputs": [],
   "source": [
    "fda_folder = '/media/anton/b8150e49-6ff0-467b-ad66-40347e8bb188/anton/FDA'\n",
    "ndc_file = 'drug-ndc-0001-of-0001.json'\n",
    "with open(os.path.join(fda_folder, ndc_file), \"r\") as f:\n",
    "    ndc_data = json.load(f)\n",
    "\n",
    "k = 0\n",
    "non = 0\n",
    "lst = []\n",
    "for res in ndc_data['results']:\n",
    "    k += 1\n",
    "    if 'unii' not in res['openfda']:\n",
    "       # print(\"None\")\n",
    "        non += 1\n",
    "        continue\n",
    "    for item in res['openfda']['unii']:\n",
    "        if len(res['openfda']['unii']) == 1:\n",
    "            if (item not in lst) and (item not in drugs['unii']):\n",
    "                lst.append(item)\n",
    "    #if k == 100:\n",
    "      #  break"
   ]
  },
  {
   "cell_type": "code",
   "execution_count": 23,
   "metadata": {},
   "outputs": [
    {
     "name": "stdout",
     "output_type": "stream",
     "text": [
      "3187\n",
      "1793\n",
      "29392\n"
     ]
    }
   ],
   "source": [
    "print(len(lst))\n",
    "print(len(drugs[\"unii\"]))\n",
    "#print(len(lst1))\n",
    "print(non)"
   ]
  },
  {
   "cell_type": "code",
   "execution_count": 6,
   "metadata": {},
   "outputs": [
    {
     "name": "stdout",
     "output_type": "stream",
     "text": [
      "Downloading UNII_Data.zip\n",
      "Extracting UNII_Data.zip\n",
      "UNII date = 25Oct2018\n",
      "UNII table updated\n"
     ]
    }
   ],
   "source": [
    "\n",
    "fda_folder = '/media/anton/b8150e49-6ff0-467b-ad66-40347e8bb188/anton/FDA'\n",
    "try:  \n",
    "    os.mkdir(os.path.join(fda_folder, \"Data\"))\n",
    "except OSError:\n",
    "    pass #print (\"Directory %s failed (maybe exists)\" % fda_folder)\n",
    "else:  \n",
    "    print (\"Successfully created the directory %s \" % fda_folder)\n",
    "\n",
    "#DOWNLOADING UNII TABLE\n",
    "\n",
    "url_file = \"https://fdasis.nlm.nih.gov/srs/download/srs/UNII_Data.zip\"\n",
    "\n",
    "r = requests.get(url_file, allow_redirects=True)\n",
    "fda_path =  os.path.join(fda_folder, url_file.split('/')[-1])\n",
    "print(\"Downloading \" + url_file.split(\"/\")[-1])\n",
    "open(fda_path, 'wb').write(r.content)\n",
    "\n",
    "unii = ''\n",
    "with zipfile.ZipFile(fda_path, 'r') as zip_ref:\n",
    "    names = zip_ref.namelist()\n",
    "    print(\"Extracting \" + url_file.split(\"/\")[-1])\n",
    "    zip_ref.extractall(os.path.join(fda_folder, \"Data\"))\n",
    "    for name in names:\n",
    "        if name[0:4] == \"UNII\":\n",
    "            unii = name\n",
    "            unii_date = name.split(\" \")[-1].split(\".\")[0] # in future - to file\n",
    "            print(\"UNII date = {unii_date}\".format(unii_date=unii_date))\n",
    "try:\n",
    "    os.remove(fda_path)\n",
    "except:\n",
    "    print(\"Error while deleting file \", fda_path)\n",
    "print(\"UNII table updated\")\n"
   ]
  },
  {
   "cell_type": "code",
   "execution_count": 13,
   "metadata": {},
   "outputs": [],
   "source": [
    "iuphar_drugs = pd.read_csv(\"/media/anton/b8150e49-6ff0-467b-ad66-40347e8bb188/anton/FDA/Data/iuphar_unii_inchikey.csv\", sep=',', lineterminator='\\n', header=0)\n",
    "iuphar_drugs_list = iuphar_drugs['inchikey'].values.tolist()"
   ]
  },
  {
   "cell_type": "code",
   "execution_count": 12,
   "metadata": {},
   "outputs": [],
   "source": [
    "drugbank_unii = pd.read_csv(\"/media/anton/b8150e49-6ff0-467b-ad66-40347e8bb188/anton/BACHELOR/drugbank_unii.csv\", sep=',', lineterminator='\\n', header=0)\n",
    "drugbank_unii_list = drugbank_unii['unii'].values.tolist()"
   ]
  },
  {
   "cell_type": "code",
   "execution_count": 21,
   "metadata": {},
   "outputs": [],
   "source": [
    "found = []\n",
    "for index, row in drugs.iterrows():\n",
    "    if not (row['inchikey'] in iuphar_drugs_list):\n",
    "        if row['unii'] in drugbank_unii_list:\n",
    "            found.append(row['unii'])"
   ]
  },
  {
   "cell_type": "code",
   "execution_count": 23,
   "metadata": {},
   "outputs": [
    {
     "name": "stdout",
     "output_type": "stream",
     "text": [
      "1037\n"
     ]
    }
   ],
   "source": [
    "print(len(found))\n",
    "df = pd.DataFrame({\"unii\" : found})\n",
    "df.to_csv(os.path.join(\"/media/anton/b8150e49-6ff0-467b-ad66-40347e8bb188/anton/BACHELOR\", \"found_drugbank.csv\"), index=False)"
   ]
  },
  {
   "cell_type": "code",
   "execution_count": 2,
   "metadata": {},
   "outputs": [
    {
     "ename": "IndentationError",
     "evalue": "expected an indented block (<ipython-input-2-beb1a51f457a>, line 19)",
     "output_type": "error",
     "traceback": [
      "\u001b[0;36m  File \u001b[0;32m\"<ipython-input-2-beb1a51f457a>\"\u001b[0;36m, line \u001b[0;32m19\u001b[0m\n\u001b[0;31m    row1 = iuphar_drugs.loc[iuphar_drugs['inchikey'] == inchikey]\u001b[0m\n\u001b[0m       ^\u001b[0m\n\u001b[0;31mIndentationError\u001b[0m\u001b[0;31m:\u001b[0m expected an indented block\n"
     ]
    }
   ],
   "source": [
    "import pandas as pd\n",
    "#from chembl_webresource_client.new_client import new_client\n",
    "import pubchempy as pcp\n",
    "\n",
    "unii_path = os.path.join(fda_folder, \"Data\", name)\n",
    "unii_table = pd.read_csv(unii_path, sep='\\t', lineterminator='\\n')\n",
    "print(len(unii_table))\n",
    "no = 0\n",
    "no_s = 0\n",
    "s = 0\n",
    "i = 0\n",
    "p = 0\n",
    "no_unii = 0\n",
    "unii_inchikey = [[],[]]\n",
    "\n",
    "for unii in lst:\n",
    "    inchikey = drugs.loc[drugs['unii'] == unii]['inchikey']\n",
    "    if inchhikey.empty:\n",
    "        row1 = iuphar_drugs.loc[iuphar_drugs['inchikey'] == inchikey]\n",
    "    if not row1.empty:\n",
    "        continue\n",
    "    row = unii_table.loc[unii_table['UNII'] == unii]\n",
    "    if row.empty:\n",
    "        no_unii += 1\n",
    "    else:\n",
    "        if pd.isna(row['INCHIKEY'].iloc[0]):\n",
    "            if pd.isna(row['PUBCHEM'].iloc[0]):\n",
    "                \"\"\"\n",
    "                if not pd.isna(row['SMILES'].iloc[0]):\n",
    "                    #print(\"P = {str}\".format(str=row['SMILES']))\n",
    "                    molecule = new_client.molecule\n",
    "                    try:\n",
    "                        res = molecule.filter(molecule_structures__canonical_smiles__flexmatch=row['SMILES'].iloc[0])\n",
    "                    except:\n",
    "                        # Inchi key was not found in ChEMBL\n",
    "                        bad_keys.append(row['SMILES'].iloc[0])\n",
    "                    #print(\"S\")                \n",
    "                    if len(res) == 0:\n",
    "                        #print(\"Drug doesn't have id, its smiles wasn't found in ChEMBL\")\n",
    "                        no_s += 1\n",
    "                    else:\n",
    "                        s += 1\n",
    "                        #for item in res:\n",
    "                        inchi = res[0]['molecule_structures']['standard_inchi'].split(\"=\")[1]\n",
    "                else:\n",
    "                    #print(\"Drug doesn't have id\")\n",
    "                    \"\"\"\n",
    "                no += 1\n",
    "            else:\n",
    "                #print(\"S = {str}\".format(str=row['PUBCHEM']))       \n",
    "                cid = int(row['PUBCHEM'].iloc[0])\n",
    "                c = pcp.Compound.from_cid(cid)\n",
    "                dict_c = c.to_dict(properties=[\"inchikey\"])\n",
    "                inchikey = dict_c[\"inchikey\"]\n",
    "                #print(\"P\")\n",
    "                #inchi = dict_c[\"inchi\"].split(\"=\")[1]\n",
    "                p += 1\n",
    "                unii_inchikey[0].append(unii)\n",
    "                unii_inchikey[1].append(inchikey)\n",
    "        else:\n",
    "            inchikey = row['INCHIKEY'].iloc[0]\n",
    "            i += 1\n",
    "            unii_inchikey[0].append(unii)\n",
    "            unii_inchikey[1].append(inchikey)"
   ]
  },
  {
   "cell_type": "code",
   "execution_count": 25,
   "metadata": {},
   "outputs": [
    {
     "name": "stdout",
     "output_type": "stream",
     "text": [
      "(0, 1392, 0, 0, 227, 1568)\n",
      "3187\n",
      "1795\n"
     ]
    }
   ],
   "source": [
    "\n",
    "print(no_unii, no, no_s, s, p, i)\n",
    "print(no + no_s + s + p + i + no_unii)\n",
    "print(len(unii_inchikey[1]))\n",
    "\n",
    "#pd.DataFrame(unii_inchi).to_csv(os.path.join(fda_folder, \"Data\", \"unii_inchi.csv\"))"
   ]
  },
  {
   "cell_type": "code",
   "execution_count": null,
   "metadata": {},
   "outputs": [],
   "source": [
    "print(no, no_s, s, p, i)\n",
    "2132 17 57 237 1737\n",
    "4180"
   ]
  },
  {
   "cell_type": "code",
   "execution_count": 22,
   "metadata": {},
   "outputs": [],
   "source": [
    "df = pd.DataFrame({\"unii\" : unii_inchikey[0], \"inchikey\" : unii_inchikey[1]})\n",
    "df.to_csv(os.path.join(fda_folder, \"Data\", \"other_unii_inchikey.csv\"), index=False)\n"
   ]
  },
  {
   "cell_type": "code",
   "execution_count": 26,
   "metadata": {},
   "outputs": [],
   "source": [
    "import pandas as pd\n",
    "a = pd.read_csv(\"/media/anton/b8150e49-6ff0-467b-ad66-40347e8bb188/anton/FDA/Data/unii_inchikey.csv\", sep=',', lineterminator='\\n', header=0)"
   ]
  },
  {
   "cell_type": "code",
   "execution_count": 27,
   "metadata": {},
   "outputs": [
    {
     "name": "stdout",
     "output_type": "stream",
     "text": [
      "0       0J48LPH2TH\n",
      "1       E7199S1YWR\n",
      "2       786Z46389E\n",
      "3       B53E3NMY5C\n",
      "4       LX1OH63030\n",
      "5       Q3JTX2Q7TU\n",
      "6       207LT9J9OC\n",
      "7       8VZV102JFY\n",
      "8       3ST302B24A\n",
      "9       3M8608UQ61\n",
      "10      4AF302ESOS\n",
      "11      5U85DBW7LO\n",
      "12      AGG2FN16EV\n",
      "13      57GNO57U7G\n",
      "14      5968Y6H45M\n",
      "15      2W4A77YPAN\n",
      "16      6GNT3Y5LMF\n",
      "17      6CW7F3G59X\n",
      "18      BK76465IHM\n",
      "19      OLH94387TE\n",
      "20      660YQ98I10\n",
      "21      9N7R477WCK\n",
      "22      00FN6IH15D\n",
      "23      6KY687524K\n",
      "24      YHP6YLT61T\n",
      "25      3I3T11UD2S\n",
      "26      FD171B778Y\n",
      "27      6W15Z5R0RU\n",
      "28      9O25354EPJ\n",
      "29      33CM23913M\n",
      "           ...    \n",
      "1763    75L57R6X36\n",
      "1764    IYD54XEG3W\n",
      "1765    KB1PCR9DMW\n",
      "1766    JED5K35YGL\n",
      "1767    95OOS7VE0Y\n",
      "1768    TU7HW0W0QT\n",
      "1769    U9LY9Y75X2\n",
      "1770    Z9K9Y9WMVL\n",
      "1771    M487QF2F4V\n",
      "1772    9013DUQ28K\n",
      "1773    N0TXR0XR5X\n",
      "1774    YOW8V9698H\n",
      "1775    31Q44514JV\n",
      "1776    SOA12P041N\n",
      "1777    93T0T9GKNU\n",
      "1778    J7A92W69L7\n",
      "1779    L0ND3981AG\n",
      "1780    IS1UP79R56\n",
      "1781    5RZZ0Z1GJT\n",
      "1782    6326W0DRHY\n",
      "1783    2XLN4Y044H\n",
      "1784    QMG7HLD1ZE\n",
      "1785    H16A5VCT9C\n",
      "1786    U4RY8MRX7C\n",
      "1787    O7DRJ6R4DW\n",
      "1788    1ZK20VI6TY\n",
      "1789    7FXW6U30GY\n",
      "1790    677C126AET\n",
      "1791    7P6FQA5D21\n",
      "1792    2C6NUM6878\n",
      "Name: unii, Length: 1793, dtype: object\n"
     ]
    }
   ],
   "source": [
    "print(a[\"unii\"])"
   ]
  },
  {
   "cell_type": "code",
   "execution_count": 16,
   "metadata": {},
   "outputs": [
    {
     "name": "stdout",
     "output_type": "stream",
     "text": [
      "Empty DataFrame\n",
      "Columns: [Ligand id, Name, Species, Type, Approved, Withdrawn, Labelled, Radioactive, PubChem SID, PubChem CID, UniProt id, IUPAC name, INN, Synonyms, SMILES, InChIKey, InChI, GtoImmuPdb, GtoMPdb]\n",
      "Index: []\n"
     ]
    }
   ],
   "source": [
    "iuphar_path = \"/media/anton/b8150e49-6ff0-467b-ad66-40347e8bb188/anton/BACHELOR/iuphar\"\n",
    "import os\n",
    "lig_iuphar = pd.read_csv(os.path.join(iuphar_path, \"ligands.csv\"), sep=',', lineterminator='\\n')\n",
    "inter_iuphar = pd.read_csv(os.path.join(iuphar_path, \"interactions.csv\"), sep=',', lineterminator='\\n')\n",
    "no_inchi = 0\n",
    "inchi = \"ZCCUWMICIWSJIX-NQJJCJBVSA-N\"\n",
    "print(lig_iuphar.loc[lig_iuphar['InChIKey'] == inchi])"
   ]
  },
  {
   "cell_type": "code",
   "execution_count": 30,
   "metadata": {},
   "outputs": [
    {
     "name": "stdout",
     "output_type": "stream",
     "text": [
      "525\n"
     ]
    }
   ],
   "source": [
    "iuphar_path = \"/media/anton/b8150e49-6ff0-467b-ad66-40347e8bb188/anton/BACHELOR/iuphar\"\n",
    "import os\n",
    "lig_iuphar = pd.read_csv(os.path.join(iuphar_path, \"ligands.csv\"), sep=',', lineterminator='\\n')\n",
    "inter_iuphar = pd.read_csv(os.path.join(iuphar_path, \"interactions.csv\"), sep=',', lineterminator='\\n')\n",
    "no_inchi = 0\n",
    "targets_iuphar = [[],[]]\n",
    "inchi_iuphar = []\n",
    "for inchi in a[\"inchikey\"]:\n",
    "    row = lig_iuphar.loc[lig_iuphar['InChIKey'] == inchi]\n",
    "    #row = lig_iuphar.loc[lig_iuphar['InChI'] == \"InChI=\" + inchi]\n",
    "    if row.empty:\n",
    "        no_inchi += 1\n",
    "        targets_iuphar.append(None)\n",
    "    else:\n",
    "        inchi_iuphar.append(inchi)\n",
    "        lig_id = row['Ligand id'].iloc[0]\n",
    "        row_arr = inter_iuphar.loc[inter_iuphar[\"ligand_id\"] == lig_id]\n",
    "        targ_arr = [[],[]]\n",
    "        for row_1 in row_arr[\"target\"]:\n",
    "            targ_arr[0].append(row_1)\n",
    "        for row_1 in row_arr[\"type\"]:\n",
    "            targ_arr[1].append(row_1)    \n",
    "        for i in range(2):\n",
    "            targets_iuphar[i].append(targ_arr[i])\n",
    "print(len(targets_iuphar[0]))"
   ]
  },
  {
   "cell_type": "code",
   "execution_count": 37,
   "metadata": {},
   "outputs": [
    {
     "name": "stdout",
     "output_type": "stream",
     "text": [
      "525\n"
     ]
    }
   ],
   "source": [
    "print(len(inchi_iuphar))\n",
    "df = pd.DataFrame({\"inchikey\" : inchi_iuphar})\n",
    "df.to_csv(os.path.join(fda_folder, \"Data\", \"iuphar_unii_inchikey.csv\"), index=False)"
   ]
  },
  {
   "cell_type": "code",
   "execution_count": 27,
   "metadata": {},
   "outputs": [
    {
     "name": "stdout",
     "output_type": "stream",
     "text": [
      "set(['None', 'Allosteric modulator', 'Subunit-specific', 'Agonist', 'Gating inhibitor', 'Channel blocker', 'Activator', 'Inhibitor', 'Antagonist'])\n",
      "[10, 41, 4, 366, 24, 93, 104, 404, 320]\n",
      "{'Activator': 41, 'Allosteric modulator': 24, 'Inhibitor': 320, 'Antagonist': 404}\n",
      "1366\n"
     ]
    }
   ],
   "source": [
    "#print(targets_iuphar[0])\n",
    "#print(targets_iuphar[1])\n",
    "b = []\n",
    "for row in targets_iuphar[1]:\n",
    "    for el in row:\n",
    "        b.append(el)\n",
    "print(set(b))\n",
    "from collections import Counter\n",
    "\n",
    "print(Counter(b).values())\n",
    "types = dict(zip(b, Counter(b).values()))\n",
    "print(types)\n",
    "print(sum(Counter(b).values()))"
   ]
  },
  {
   "cell_type": "code",
   "execution_count": 37,
   "metadata": {},
   "outputs": [
    {
     "data": {
      "image/png": "[encoded data removed]",
      "text/plain": [
       "<Figure size 432x288 with 1 Axes>"
      ]
     },
     "metadata": {
      "needs_background": "light"
     },
     "output_type": "display_data"
    }
   ],
   "source": [
    "import matplotlib.pyplot as plt\n",
    "names = list(types.keys())\n",
    "values = list(types.values())\n",
    "\n",
    "fig, ax = plt.subplots()\n",
    "ax.bar(names, values)\n",
    "plt.show()"
   ]
  },
  {
   "cell_type": "code",
   "execution_count": 17,
   "metadata": {},
   "outputs": [
    {
     "name": "stdout",
     "output_type": "stream",
     "text": [
      "525\n",
      "525\n"
     ]
    }
   ],
   "source": [
    "print(len(targets_iuphar[0]))\n",
    "print(len(targets_iuphar[1]))\n",
    "#lig_iuphar = []\n",
    "#for row in targets_iuphar[0]:\n",
    "#    lig_iuphar.append()"
   ]
  },
  {
   "cell_type": "code",
   "execution_count": 19,
   "metadata": {},
   "outputs": [
    {
     "name": "stdout",
     "output_type": "stream",
     "text": [
      "2031\n",
      "8027\n"
     ]
    }
   ],
   "source": [
    "print(len(set(inter_iuphar[\"target_id\"])))\n",
    "print(len(set(inter_iuphar[\"ligand_id\"])))"
   ]
  },
  {
   "cell_type": "code",
   "execution_count": 29,
   "metadata": {},
   "outputs": [
    {
     "ename": "SyntaxError",
     "evalue": "invalid syntax (<ipython-input-29-4845e2f4a750>, line 1)",
     "output_type": "error",
     "traceback": [
      "\u001b[1;36m  File \u001b[1;32m\"<ipython-input-29-4845e2f4a750>\"\u001b[1;36m, line \u001b[1;32m1\u001b[0m\n\u001b[1;33m    df = pd.DataFrame({\"ligand\" : \"target\" : row for row in targets_iuphar[0], \"inchi\" : unii_inchi[1]})\u001b[0m\n\u001b[1;37m                                           ^\u001b[0m\n\u001b[1;31mSyntaxError\u001b[0m\u001b[1;31m:\u001b[0m invalid syntax\n"
     ]
    }
   ],
   "source": []
  },
  {
   "cell_type": "code",
   "execution_count": 10,
   "metadata": {},
   "outputs": [
    {
     "name": "stdout",
     "output_type": "stream",
     "text": [
      "11\n"
     ]
    }
   ],
   "source": [
    "\n",
    "iuphar_path = \"/media/anton/b8150e49-6ff0-467b-ad66-40347e8bb188/anton/BACHELOR/iuphar\"\n",
    "import os\n",
    "pep_iuphar = pd.read_csv(os.path.join(iuphar_path, \"peptides.csv\"), sep=',', lineterminator='\\n')\n",
    "inter_iuphar = pd.read_csv(os.path.join(iuphar_path, \"interactions.csv\"), sep=',', lineterminator='\\n')\n",
    "no_inchi = 0\n",
    "targets_iuphar = [[],[]]\n",
    "for inchi in a[\"inchikey\"]:\n",
    "    row = pep_iuphar.loc[pep_iuphar['InChIKey'] == inchi]\n",
    "    #row = lig_iuphar.loc[lig_iuphar['InChI'] == \"InChI=\" + inchi]\n",
    "    if row.empty:\n",
    "        no_inchi += 1\n",
    "        targets_iuphar.append(None)\n",
    "    else:\n",
    "        lig_id = row['Ligand id'].iloc[0]\n",
    "        row_arr = inter_iuphar.loc[inter_iuphar[\"ligand_id\"] == lig_id]\n",
    "        targ_arr = [[],[]]\n",
    "        for row_1 in row_arr[\"target\"]:\n",
    "            targ_arr[0].append(row_1)\n",
    "        for row_1 in row_arr[\"type\"]:\n",
    "            targ_arr[1].append(row_1)    \n",
    "        for i in range(2):\n",
    "            targets_iuphar[i].append(targ_arr[i])\n",
    "print(len(targets_iuphar[0]))\n",
    "\n"
   ]
  },
  {
   "cell_type": "code",
   "execution_count": null,
   "metadata": {},
   "outputs": [],
   "source": []
  }
 ],
 "metadata": {
  "kernelspec": {
   "display_name": "Python 3",
   "language": "python",
   "name": "python3"
  },
  "language_info": {
   "codemirror_mode": {
    "name": "ipython",
    "version": 3
   },
   "file_extension": ".py",
   "mimetype": "text/x-python",
   "name": "python",
   "nbconvert_exporter": "python",
   "pygments_lexer": "ipython3",
   "version": "3.7.3"
  }
 },
 "nbformat": 4,
 "nbformat_minor": 2
}
