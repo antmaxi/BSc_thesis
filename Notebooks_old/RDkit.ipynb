{
 "cells": [
  {
   "cell_type": "code",
   "execution_count": 1,
   "metadata": {},
   "outputs": [
    {
     "ename": "ModuleNotFoundError",
     "evalue": "No module named 'rdkit'",
     "output_type": "error",
     "traceback": [
      "\u001b[0;31m---------------------------------------------------------------------------\u001b[0m",
      "\u001b[0;31mModuleNotFoundError\u001b[0m                       Traceback (most recent call last)",
      "\u001b[0;32m<ipython-input-1-78112e392758>\u001b[0m in \u001b[0;36m<module>\u001b[0;34m\u001b[0m\n\u001b[0;32m----> 1\u001b[0;31m \u001b[0;32mfrom\u001b[0m \u001b[0mrdkit\u001b[0m \u001b[0;32mimport\u001b[0m \u001b[0mChem\u001b[0m\u001b[0;34m\u001b[0m\u001b[0;34m\u001b[0m\u001b[0m\n\u001b[0m\u001b[1;32m      2\u001b[0m \u001b[0;32mfrom\u001b[0m \u001b[0mrdkit\u001b[0m \u001b[0;32mimport\u001b[0m \u001b[0mDataStructs\u001b[0m\u001b[0;34m\u001b[0m\u001b[0;34m\u001b[0m\u001b[0m\n\u001b[1;32m      3\u001b[0m \u001b[0;32mfrom\u001b[0m \u001b[0mrdkit\u001b[0m\u001b[0;34m.\u001b[0m\u001b[0mChem\u001b[0m\u001b[0;34m.\u001b[0m\u001b[0mFingerprints\u001b[0m \u001b[0;32mimport\u001b[0m \u001b[0mFingerprintMols\u001b[0m\u001b[0;34m\u001b[0m\u001b[0;34m\u001b[0m\u001b[0m\n\u001b[1;32m      4\u001b[0m \u001b[0;32mimport\u001b[0m \u001b[0mpandas\u001b[0m \u001b[0;32mas\u001b[0m \u001b[0mpd\u001b[0m\u001b[0;34m\u001b[0m\u001b[0;34m\u001b[0m\u001b[0m\n\u001b[1;32m      5\u001b[0m \u001b[0;34m\u001b[0m\u001b[0m\n",
      "\u001b[0;31mModuleNotFoundError\u001b[0m: No module named 'rdkit'"
     ]
    }
   ],
   "source": [
    "from rdkit import Chem\n",
    "from rdkit import DataStructs\n",
    "from rdkit.Chem.Fingerprints import FingerprintMols\n",
    "import pandas as pd\n",
    "\n",
    "# read and Conconate the csv's\n",
    "df_1 = pd.read_csv('first.csv')\n",
    "df_2 = pd.read_csv('second.csv')\n",
    "df_3 = pd.concat([df_1, df_2])\n",
    "\n",
    "# proof and make a list of SMILES\n",
    "df_smiles = df_3['smiles']\n",
    "c_smiles = []\n",
    "for ds in df_smiles:\n",
    "    try:\n",
    "        cs = Chem.CanonSmiles(ds)\n",
    "        c_smiles.append(cs)\n",
    "    except:\n",
    "        print('Invalid SMILES:', ds)\n",
    "print()\n",
    "\n",
    "# make a list of mols\n",
    "ms = [Chem.MolFromSmiles(x) for x in c_smiles]\n",
    "\n",
    "# make a list of fingerprints (fp)\n",
    "fps = [FingerprintMols.FingerprintMol(x) for x in ms]\n",
    "\n",
    "# the list for the dataframe\n",
    "qu, ta, sim = [], [], []\n",
    "\n",
    "# compare all fp pairwise without duplicates\n",
    "for n in range(len(fps)-1): # -1 so the last fp will not be used\n",
    "    s = DataStructs.BulkTanimotoSimilarity(fps[n], fps[n+1:]) # +1 compare with the next to the last fp\n",
    "    print(c_smiles[n], c_smiles[n+1:]) # witch mol is compared with what group\n",
    "    # collect the SMILES and values\n",
    "    for m in range(len(s)):\n",
    "        qu.append(c_smiles[n])\n",
    "        ta.append(c_smiles[n+1:][m])\n",
    "        sim.append(s[m])\n",
    "print()\n",
    "\n",
    "# build the dataframe and sort it\n",
    "d = {'query':qu, 'target':ta, 'Similarity':sim}\n",
    "df_final = pd.DataFrame(data=d)\n",
    "df_final = df_final.sort_values('Similarity', ascending=False)\n",
    "print(df_final)\n",
    "\n",
    "# save as csv\n",
    "df_final.to_csv('third.csv', index=False, sep=',')"
   ]
  },
  {
   "cell_type": "code",
   "execution_count": null,
   "metadata": {},
   "outputs": [],
   "source": []
  }
 ],
 "metadata": {
  "kernelspec": {
   "display_name": "Python 3",
   "language": "python",
   "name": "python3"
  },
  "language_info": {
   "codemirror_mode": {
    "name": "ipython",
    "version": 3
   },
   "file_extension": ".py",
   "mimetype": "text/x-python",
   "name": "python",
   "nbconvert_exporter": "python",
   "pygments_lexer": "ipython3",
   "version": "3.7.3"
  }
 },
 "nbformat": 4,
 "nbformat_minor": 2
}
