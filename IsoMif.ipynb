{
 "cells": [
  {
   "cell_type": "code",
   "execution_count": 2,
   "metadata": {},
   "outputs": [],
   "source": [
    "import subprocess\n",
    "from pathlib import Path\n",
    "import os\n",
    "\n",
    "def make_dir(dirList):\n",
    "    for dirName in dirList:\n",
    "        if not os.path.exists(dirName):\n",
    "            os.mkdir(dirName)\n",
    "            print(\"Directory \" , dirName ,  \" Created \")\n",
    "        else:\n",
    "            pass\n",
    "            #print(\"Directory \" , dirName ,  \" already exists\")\n",
    "\n",
    "def cmd(command):\n",
    "    subprocess.check_output(command, shell=True)\n",
    "\n",
    "def make_hive(ROOT):\n",
    "    \"\"\"\n",
    "    Create all needed directories\n",
    "    \"\"\"\n",
    "    List = []\n",
    "    List.append(ROOT / 'hive')\n",
    "    for last_name in ('clefts', 'match', 'matchView', 'mifs', 'mifView', 'pdb'):\n",
    "        List.append(ROOT / 'hive' / last_name)\n",
    "    make_dir(List)\n",
    "    \n",
    "    \n",
    "ROOT = Path('.')\n",
    "HIVE = ROOT / 'hive'\n",
    "GSL_PATH = Path('/media/anton/b8150e49-6ff0-467b-ad66-40347e8bb188/anton/BACHELOR/gsl')\n",
    "PDB_PATH = ROOT / 'hive' / 'pdb'\n",
    "GET_CLEFT_PATH = ROOT / 'Get_Cleft-master'\n",
    "ISOMIF_PATH = ROOT / 'IsoMif-master'\n",
    "\n",
    "SYSTEM_NAME = 'linux_x86_64'\n",
    "REDUCE_PATH = ISOMIF_PATH / 'reduce.3.23.130521'\n",
    "MIF_NAME = 'mif_' + SYSTEM_NAME + '_compiled'\n",
    "ISOMIF_NAME = 'isomif_' + SYSTEM_NAME + '_compiled'"
   ]
  },
  {
   "cell_type": "code",
   "execution_count": 3,
   "metadata": {},
   "outputs": [],
   "source": [
    "make_hive(ROOT)"
   ]
  },
  {
   "cell_type": "markdown",
   "metadata": {},
   "source": [
    "Compilation of all in IsoMif"
   ]
  },
  {
   "cell_type": "code",
   "execution_count": null,
   "metadata": {},
   "outputs": [],
   "source": [
    "# compile Get Cleft\n",
    "cmd('gcc ' + str(GET_CLEFT_PATH / \"Get_Cleft.c\") + ' -o Get_Cleft -O3 -lm')\n",
    "\n",
    "# compile mif and isomif for linux_x86_64, needs path to gsl\n",
    "cmd('g++ ' + str(ISOMIF_PATH / 'mif.cpp') + ' -o ' + str(ISOMIF_PATH / MIF_NAME) + '-O3 -lm')\n",
    "cmd('g++ ' + str(ISOMIF_PATH / 'isomif.cpp') + ' -o ' + str(ISOMIF_PATH / ISOMIF_NAME) + \\\n",
    "    ' -O3 -lm -lgsl -lgslcblas -L' +  str(GSL_PATH / 'lib') + ' -I ' + str(GSL_PATH /'include'))"
   ]
  },
  {
   "cell_type": "code",
   "execution_count": 34,
   "metadata": {},
   "outputs": [
    {
     "name": "stdout",
     "output_type": "stream",
     "text": [
      "1E8X ATP3000A-\n",
      "1RDQ ATP600EB\n"
     ]
    }
   ],
   "source": [
    "pdbs = ('1E8X', '1RDQ')\n",
    "ligands = ('ATP3000A-', 'ATP600EB')\n",
    "\n",
    "# make clefts\n",
    "#./Get_Cleft-master/Get_Cleft -p ./hive/pdb/1E8X.pdb -o ./hive/clefts/1E8X -s -t 5 \n",
    "for (pdb, lig) in zip(pdbs, ligands):\n",
    "    print(pdb, lig)\n",
    "    cmd(str(GET_CLEFT_PATH / 'Get_Cleft') + ' -p ' + str(PDB_PATH / (pdb +'.pdb')) + ' -o ' + \\\n",
    "            str(HIVE / 'clefts' / pdb) + ' -s -a ' + lig)"
   ]
  },
  {
   "cell_type": "code",
   "execution_count": 36,
   "metadata": {},
   "outputs": [],
   "source": [
    "# add hydrogens\n",
    "for pdb in pdbs:\n",
    "    cmd(str(REDUCE_PATH) + ' -p ' + str(PDB_PATH / (pdb + '.pdb')) + ' > ' + str(PDB_PATH / (pdb + 'h.pdb')))"
   ]
  },
  {
   "cell_type": "code",
   "execution_count": 41,
   "metadata": {},
   "outputs": [],
   "source": [
    "# calculate MIF\n",
    "k = 0 # make search by suffix?\n",
    "for (pdb, lig) in zip(pdbs, ligands):\n",
    "    k += 1\n",
    "    cmd(str(ISOMIF_PATH / MIF_NAME) + ' -p ' + str(PDB_PATH / (pdb + 'h.pdb')) + ' -g ' + \\\n",
    "        str(HIVE / 'clefts' / (pdb + '_' + lig + '_sph_' + str(k) + '.pdb')) + ' -o ' + \\\n",
    "        str(HIVE / 'mifs') + ' -l ' + lig + ' -r 3 -t ' + pdb)"
   ]
  },
  {
   "cell_type": "markdown",
   "metadata": {},
   "source": [
    "other parameters"
   ]
  },
  {
   "cell_type": "code",
   "execution_count": 42,
   "metadata": {},
   "outputs": [],
   "source": [
    "# calculate MIF\n",
    "k = 0 # make search by suffix?\n",
    "for (pdb, lig) in zip(pdbs, ligands):\n",
    "    k += 1\n",
    "    cmd(str(ISOMIF_PATH / MIF_NAME) + ' -p ' + str(PDB_PATH / (pdb + 'h.pdb')) + ' -g ' + \\\n",
    "        str(HIVE / 'clefts' / (pdb + '_' + lig + '_sph_' + str(k) + '.pdb')) + ' -o ' + \\\n",
    "        str(HIVE / 'mifs') + ' z  1')\n",
    "    # file for visualisation\n",
    "    cmd('perl ' + str(ISOMIF_PATH / 'mifView.pl') + ' -m ' + str(HIVE / 'mifs' / (pdb + 'h.mif')) \\\n",
    "       + ' -o ' + str(HIVE / 'mifView'))"
   ]
  },
  {
   "cell_type": "code",
   "execution_count": 4,
   "metadata": {},
   "outputs": [],
   "source": [
    "# calculate ISOMIF\n",
    "pdbh1 = '1E8Xh'\n",
    "pdbh2 = '1RDQh'\n",
    "cmd(str(ISOMIF_PATH / ISOMIF_NAME) \\\n",
    "    + ' -p1 ' + str(HIVE / 'mifs' / (pdbh1 + '.mif')) \\\n",
    "    + ' -p2 ' + str(HIVE / 'mifs' / (pdbh2 + '.mif')) + ' -o ' + str(HIVE / 'match' / '') + ' -c 1 -d 2.0')\n",
    "\n",
    "cmd('perl ' + str(ISOMIF_PATH / 'isoMifView.pl') + ' -m ' \\\n",
    "    + str(HIVE / 'match' / (pdbh1 + '_match_' + pdbh2 + '.isomif')) + ' -o ' \\\n",
    "    + str(HIVE / 'matchView') + ' -g 1')"
   ]
  },
  {
   "cell_type": "code",
   "execution_count": null,
   "metadata": {},
   "outputs": [],
   "source": []
  }
 ],
 "metadata": {
  "kernelspec": {
   "display_name": "Python 3",
   "language": "python",
   "name": "python3"
  },
  "language_info": {
   "codemirror_mode": {
    "name": "ipython",
    "version": 3
   },
   "file_extension": ".py",
   "mimetype": "text/x-python",
   "name": "python",
   "nbconvert_exporter": "python",
   "pygments_lexer": "ipython3",
   "version": "3.7.3"
  }
 },
 "nbformat": 4,
 "nbformat_minor": 2
}
