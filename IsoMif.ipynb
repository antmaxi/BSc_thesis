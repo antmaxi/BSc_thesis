{
 "cells": [
  {
   "cell_type": "code",
   "execution_count": 1,
   "metadata": {},
   "outputs": [
    {
     "name": "stdout",
     "output_type": "stream",
     "text": [
      "Writing IsoMif.py\n"
     ]
    }
   ],
   "source": [
    "%%writefile IsoMif.py\n",
    "# %load IsoMIF.py\n",
    "\n",
    "\"\"\"Using 2 pdb ids and numbers of two clefts from the biggest gets Tanimoto coef between them\"\"\"\n",
    "\n",
    "import os\n",
    "import subprocess\n",
    "import requests\n",
    "from pathlib import Path  # Library for easier paths processing\n",
    "import mmap\n",
    "import Auxiliary as aux\n",
    "\n",
    "global GSL_PATH, GET_CLEFT_PATH, ISOMIF_PATH, REDUCE_PATH, SYSTEM_NAME\n",
    "global HIVE_PATH, PDB_PATH, MIF_NAME, ISOMIF_NAME, N_cavities\n",
    "\n",
    "PDB_PATH = None\n",
    "N_cavities = 1\n",
    "\n",
    "\n",
    "def make_hive(root_isomif):\n",
    "    \"\"\"Create all needed for IsoMIF data storage directories\"\"\"\n",
    "    List = []\n",
    "    List.append(str(Path(root_isomif)))\n",
    "    List.append(str(Path(root_isomif) / 'hive'))\n",
    "    for last_name in ('clefts', 'match', 'matchView',\n",
    "                      'mifs', 'mifView', 'pdb'):\n",
    "        List.append(str(Path(root_isomif) / 'hive' / last_name))\n",
    "    aux.make_dir_from_list(List)\n",
    "\n",
    "\n",
    "def isomif_init(root, gsl_path=None, reduce_path=None,\n",
    "                system_name='linux_x86_64', n_cavities=1, \n",
    "                overwrite_init=False):\n",
    "    \"\"\" Prepare everything (paths, default settings)  for the IsoMIF work. \n",
    "    If only root is in input, then try to find root/init.txt and get settings from it\n",
    "    \n",
    "    Input -- strings:\n",
    "            root - Root for making storage of all needed for Isomif data\n",
    "            gsl_path - Path to GSL library with 'lib' and 'include' subdirectories\n",
    "            reduce_path - Path to reduce program\n",
    "            system_name - string of system name, could be 'linux_x86_64' (default) or 'mac_x86_64'\n",
    "            \n",
    "        n_cavities - Default number of cavities to find\n",
    "        boolean overwrite_init -- True if needed to overwrite old init.txt\n",
    "    \"\"\"\n",
    "    global GSL_PATH, GET_CLEFT_PATH, ISOMIF_PATH, REDUCE_PATH, SYSTEM_NAME\n",
    "    global HIVE_PATH, PDB_PATH, MIF_NAME, ISOMIF_NAME, N_cavities\n",
    "    \n",
    "    path_init = str(Path(root)  / 'Isomif' / 'init.txt')\n",
    "    # If need to initialize from input and create/overwrite init file \n",
    "    if not Path(path_init).is_file() or overwrite_init:\n",
    "        with open(str(Path(root) / 'Isomif' / 'init.txt'), 'w+') as init_file:\n",
    "            init_file.write('\\n'.join([root, gsl_path, reduce_path, \n",
    "                                  system_name, str(n_cavities)]))\n",
    "    # If init.txt exists and we don't need to overwrite it\n",
    "    else:\n",
    "        with open(Path(root) / 'Isomif' / 'init.txt', 'r') as init_file:\n",
    "            lines = init_file.readlines()\n",
    "            root = lines[0].rstrip()\n",
    "            gsl_path = lines[1].rstrip()\n",
    "            reduce_path = lines[2].rstrip()\n",
    "            system_name = lines[3].rstrip()\n",
    "            n_cavities = int(lines[4])\n",
    "\n",
    "    # Further global paths needed to be defined\n",
    "    #\n",
    "    # Root for making storage of all needed for Isomif data    \n",
    "    root_isomif = str(Path(root) / 'Isomif')\n",
    "    # Path to GSL library with 'lib' and 'include' subdirectories\n",
    "    GSL_PATH = gsl_path\n",
    "    # Path to Get_Cleft-master directory\n",
    "    GET_CLEFT_PATH = str(Path(root_isomif) / 'Get_Cleft-master')\n",
    "    # Path to Isomif-master directory\n",
    "    ISOMIF_PATH = str(Path(root_isomif) / 'IsoMif-master')\n",
    "    # Path to reduce program\n",
    "    REDUCE_PATH = reduce_path\n",
    "    # System name, could be 'linux_x86_64' or 'mac_x86_64'\n",
    "    SYSTEM_NAME = system_name\n",
    "    # Default number of cavities to find\n",
    "    N_cavities = n_cavities\n",
    "\n",
    "    # Where all data stored\n",
    "    HIVE_PATH = str(Path(root_isomif) / 'hive')\n",
    "    PDB_PATH = str(Path(root_isomif) / 'hive' / 'pdb')\n",
    "\n",
    "    MIF_NAME = 'mif_' + SYSTEM_NAME + '_compiled'\n",
    "    ISOMIF_NAME = 'isomif_' + SYSTEM_NAME + '_compiled'\n",
    "\n",
    "    # Creating needed for IsoMIF directories inside ROOT\n",
    "    make_hive(root_isomif)\n",
    "        \n",
    "\n",
    "def isomif_compile():\n",
    "    \"\"\"Compile Get_Cleft for this OS. Initialisation by isomif_init function is needed before this\"\"\"\n",
    "    subprocess.check_output(['gcc', str(Path(GET_CLEFT_PATH) / 'Get_Cleft.c'),\n",
    "                             '-o', str(Path(GET_CLEFT_PATH) / 'Get_Cleft'),\n",
    "                             '-O3', '-lm',\n",
    "                             ])\n",
    "    print('Get_Cleft compiled')\n",
    "    # Compile MIF and IsoMIF for linux_x86_64, needs path to gsl\n",
    "    subprocess.check_output(['g++', str(Path(ISOMIF_PATH) / 'mif.cpp'),\n",
    "                            '-o', str(Path(ISOMIF_PATH) / MIF_NAME),\n",
    "                            '-O3', '-lm',\n",
    "                            ])\n",
    "    print('MIF compiled')\n",
    "    subprocess.check_output(['g++', str(Path(ISOMIF_PATH) / 'isomif.cpp'),\n",
    "                            '-o', str(Path(ISOMIF_PATH) / ISOMIF_NAME),\n",
    "                            '-O3', '-lm', '-lgsl', '-lgslcblas', '-L', str(Path(GSL_PATH) / 'lib'),\n",
    "                            '-I', str(Path(GSL_PATH) / 'include'),\n",
    "                            ])\n",
    "    print('IsoMIF compiled')\n",
    "\n",
    "    \n",
    "def get_cavities(pdb, n_cavities=N_cavities, pdb_path=None):\n",
    "    \"\"\"Finding n_cavities of the biggest cavities in pdb\"\"\"\n",
    "    if pdb_path is None:\n",
    "        pdb_path = PDB_PATH\n",
    "    subprocess.check_output([str(Path(GET_CLEFT_PATH) / 'Get_Cleft'),\n",
    "                            '-p', str(Path(pdb_path) / (pdb + '.pdb')),\n",
    "                            '-o', str(Path(HIVE_PATH) / 'clefts' / pdb),\n",
    "                            '-s', '-t', str(n_cavities),\n",
    "                            ])\n",
    "\n",
    "\n",
    "def add_hydrogens_by_reduce(pdb, pdb_path=None):\n",
    "    \"\"\"Add hydrogens to .pdb using reduce, save in the same directory adding 'h' to pdb name\"\"\"\n",
    "    if pdb_path is None:\n",
    "        pdb_path = PDB_PATH\n",
    "    # Check if hydrogens were added before\n",
    "    if not Path(str(Path(pdb_path) / (pdb + 'h.pdb'))).is_file():\n",
    "        print(str(Path(pdb_path) / (pdb + '.pdb')))\n",
    "        subprocess.check_output(REDUCE_PATH + \\\n",
    "                                ' -p ' + str(Path(pdb_path) / (pdb + '.pdb')) + \\\n",
    "                                ' > ' + str(Path(pdb_path) / (pdb + 'h.pdb')), shell=True\n",
    "                                )  # Somehow with list of parameters does't work properly\n",
    "        print(f'Added hydrogens to {pdb}.pdb')\n",
    "    else:\n",
    "        print(f'Were before added hydrogens to {pdb}.pdb')\n",
    "\n",
    "\n",
    "def calc_mif(pdb,  n_cavities=N_cavities, pdb_path=None, res_mif=1, vis=True):\n",
    "    \"\"\"Get MIFs for n_cavities of pdb placed in pdb_path. Vis=True to make visualisation\n",
    "    res -- Resolution\n",
    "    0 => 2 Ang, 1 => 1.5 Ang, 2 => 1.0 Ang, 3 => 0.5 Ang\"\"\"\n",
    "    if pdb_path is None:\n",
    "        pdb_path = PDB_PATH\n",
    "    f_calculated_something = False\n",
    "    for i in range(1, n_cavities + 1):\n",
    "        # Check if MIF is already calculated\n",
    "        if not Path(str(Path(HIVE_PATH) / 'mifs' / (pdb + 'h_' + str(i) + '.mif'))).is_file():\n",
    "            f_calculated_something = True\n",
    "            subprocess.check_output([str(Path(ISOMIF_PATH) / MIF_NAME),\n",
    "                                    '-p', str(Path(PDB_PATH) / (pdb + 'h.pdb')),\n",
    "                                    '-g', str(Path(HIVE_PATH) / 'clefts' / (pdb + '_sph_' + str(i) + '.pdb')),\n",
    "                                    '-o', str(Path(HIVE_PATH) / 'mifs'),\n",
    "                                    'z', str(res_mif),\n",
    "                                    ])\n",
    "            # Rename files, as by default makes just smth like 1E8Xh.mif and 1E8Xh_cpy.pdb despite number of cleft\n",
    "            os.rename(str(Path(HIVE_PATH) / 'mifs' / (pdb + 'h.mif')), \n",
    "                      str(Path(HIVE_PATH) / 'mifs' / (pdb + 'h_' + str(i) + '.mif')))\n",
    "            os.rename(str(Path(HIVE_PATH) / 'mifs' / (pdb + 'h_cpy.pdb')), \n",
    "                      str(Path(HIVE_PATH) / 'mifs' / (pdb + 'h_' + str(i) + '_cpy.pdb')))\n",
    "            # Produce file for visualisation\n",
    "            if vis:\n",
    "                subprocess.check_output(['perl', str(Path(ISOMIF_PATH) / 'mifView.pl'),\n",
    "                                         ' -m ', str(Path(HIVE_PATH) / 'mifs' / (pdb + 'h_' + str(i) + '.mif')),\n",
    "                                         ' -o ', str(Path(HIVE_PATH) / 'mifView'), #/ (pdb + str(i))\n",
    "                                    ])\n",
    "                print('perl' + str(Path(ISOMIF_PATH) / 'mifView.pl')+ \\\n",
    "                                         ' -m ' + str(Path(HIVE_PATH) / 'mifs' / (pdb + 'h_' + str(i) + '.mif')) + \\\n",
    "                                         ' -o ' + str(Path(HIVE_PATH) / 'mifView'))\n",
    "        else:\n",
    "            print(f'Was before calculated MIF for {i}th(st, nd)')\n",
    "    if f_calculated_something:\n",
    "        print(f'Calculated MIFs of {n_cavities} the biggest cavities in {pdb}h.pdb')\n",
    "            \n",
    "\n",
    "def calc_isomif(pdb1, pdb2, i1=1, i2=1, res_isomif=1, node_variab=2.0, vis=False, res_nodes=1):\n",
    "    \"\"\"Calculate ISOMIF of files pdb1 + 'h_' + str(i1) + '.mif' and pdb2 + 'h_' + str(i2) + '.mif'\n",
    "    in HIVE_PATH / 'mifs'\n",
    "    \"\"\"\n",
    "    # SOMETIMES COLLAPSES WHEN NOT ENOUGH MEMORY\n",
    "    pdbh1 = pdb1 + 'h'\n",
    "    pdbh2 = pdb2 + 'h'\n",
    "    # Check if IsoMIF isn't calculated already\n",
    "    if not Path(str(Path(HIVE_PATH) / 'match' / (pdbh1 + '_' + str(i1) + '_match_' + \\\n",
    "                                                 pdbh2 + '_' + str(i2) + '.isomif'))).is_file():\n",
    "        print(' '.join([str(Path(ISOMIF_PATH) / ISOMIF_NAME),\n",
    "                                '-p1', str(Path(HIVE_PATH) / 'mifs' / (pdbh1 + '_' + str(i1) + '.mif')),\n",
    "                                '-p2', str(Path(HIVE_PATH) / 'mifs' / (pdbh2 + '_' + str(i2) + '.mif')),\n",
    "                                '-o', os.path.join(str(Path(HIVE_PATH) / 'match'), ''),\n",
    "                                '-c', str(res_isomif), '-d', str(node_variab),\n",
    "                                ]))\n",
    "        subprocess.check_output([str(Path(ISOMIF_PATH) / ISOMIF_NAME),\n",
    "                                '-p1', str(Path(HIVE_PATH) / 'mifs' / (pdbh1 + '_' + str(i1) + '.mif')),\n",
    "                                '-p2', str(Path(HIVE_PATH) / 'mifs' / (pdbh2 + '_' + str(i2) + '.mif')),\n",
    "                                '-o', os.path.join(str(Path(HIVE_PATH) / 'match'), ''),\n",
    "                                '-c', str(res_isomif), '-d', str(node_variab),\n",
    "                                ])\n",
    "        \n",
    "        if vis:\n",
    "            subprocess.check_output(['perl', str(Path(ISOMIF_PATH) / 'isoMifView.pl'),\n",
    "                                     '-m', str(Path(HIVE_PATH) / 'match' / (pdbh1 + '_' + str(i1) + \\\n",
    "                                                                '_match_' + pdbh2 + '_' + str(i2) + '.isomif')),\n",
    "                                     '-o', os.path.join(str(Path(HIVE_PATH) / 'matchView'), ''),\n",
    "                                     '-g', str(res_nodes)\n",
    "                                    ])\n",
    "        print(f'Calculated IsoMIF for {i1}th(st, nd) and {i2}th(st, nd) biggest cavities in {pdb1}h.pdb and {pdb2}h.pdb')\n",
    "    else:\n",
    "        print(f'Was before calculated IsoMIF for {i1}th(st, nd) and {i2}th(st, nd) biggest cavities in {pdb1}h.pdb and {pdb2}h.pdb') \n",
    "        \n",
    "        \n",
    "def get_tanimoto_from_isomif_file(pdb1, pdb2, i1, i2):\n",
    "    \"\"\"Extract tanimoto similiarity from .txt file - result of IsoMIF\"\"\"\n",
    "    filename = pdb1 + 'h_' + str(i1) + '_match' + pdb2 + 'h_' + str(i2) + '.isomif'\n",
    "    with open(str(HIVE / 'match' / filename), 'rb', 0) as file, \\\n",
    "         mmap.mmap(file.fileno(), 0, access=mmap.ACCESS_READ) as s:\n",
    "        if s.find(b'TANIM') != -1:\n",
    "            pos = s.find(b'TANIM')\n",
    "            tanim = float(s[pos+6 : pos+12].decode('utf-8'))\n",
    "        else:\n",
    "            return -1\n",
    "    return tanim\n",
    "\n",
    "\n",
    "def mif_from_pdb_simple(pdb, n_cavities=N_cavities):\n",
    "    \"\"\"Produce MIF files from pdb id\"\"\"\n",
    "    aux.download_pdb(pdb, PDB_PATH)\n",
    "    add_hydrogens_by_reduce(pdb)\n",
    "    get_cavities(pdb, n_cavities)\n",
    "    calc_mif(pdb, n_cavities, vis=True)\n",
    "\n",
    "\n",
    "def calc_mifs_of_whole_drugbank():\n",
    "    \"\"\"\"\"\"\n",
    "# Initialisation of paths and default parameters\n",
    "# (maybe, it's worth to put initialisation parameters into .txt?)\n",
    "root = '/home/anton_maximov/BACHELOR'\n",
    "root_isomif = str(Path(root) / 'Isomif')\n",
    "#root = '/media/anton/b8150e49-6ff0-467b-ad66-40347e8bb188/anton/BACHELOR/Isomif'\n",
    "isomif_init(\n",
    "    # Root directory\n",
    "    root,\n",
    "    # GSL directory\n",
    "    '/home/anton_maximov/gsl',\n",
    "    # Reduce executive\n",
    "    os.path.join(root_isomif, 'reduce.3.23.130521'),\n",
    "    # System name, could be 'linux_x86_64' or 'mac_x86_64'\n",
    "    'linux_x86_64', \n",
    "    # Default number of cavities to find\n",
    "    1,\n",
    "    )\n",
    "\n",
    "# Compilation if hasn't been done before\n",
    "#isomif_compile()\n",
    "\n",
    "# Example of getting pdbs from uniprot: \n",
    "#uniprot1 = 'P00734'  # Prothrombin\n",
    "#uniprot2 = 'P00736'  # Cetuximab\n",
    "#pdb1 = get_pdbs_from_uniprot(uniprot1, PDB_PATH)[1]\n",
    "#pdb2 = get_pdbs_from_uniprot(uniprot2, PDB_PATH)[2]\n",
    "#mif_from_pdb_simple(pdb1, i1)\n",
    "#mif_from_pdb_simple(pdb2, i2)\n",
    "#calc_isomif(pdb1, pdb2, i1, i2) DOESN'T WORK\n",
    "#return get_tanimoto_from_isomif_file(pdb1, pdb2, i1, i2)"
   ]
  },
  {
   "cell_type": "code",
   "execution_count": 6,
   "metadata": {},
   "outputs": [
    {
     "name": "stdout",
     "output_type": "stream",
     "text": [
      "/home/anton_maximov/BACHELOR/Isomif/hive/pdb/1A3E.pdb\n",
      "Added hydrogens to 1A3E.pdb\n"
     ]
    }
   ],
   "source": [
    "#subprocess.check_output('echo $LD_LIBRARY_PATH', shell=True)\n",
    "add_hydrogens_by_reduce('1A3E')"
   ]
  },
  {
   "cell_type": "code",
   "execution_count": 28,
   "metadata": {},
   "outputs": [
    {
     "name": "stdout",
     "output_type": "stream",
     "text": [
      "['/home/anton_maximov/BACHELOR\\n', '/home/anton_maximov/gsl\\n', '/home/anton_maximov/BACHELOR/Isomif/reduce.3.23.130521\\n', 'linux_x86_64\\n', '1\\n', '\\n']\n",
      "/home/anton_maximov/BACHELOR\n",
      "1\n"
     ]
    }
   ],
   "source": [
    "root = '/home/anton_maximov/BACHELOR'\n",
    "\n",
    "print(n_cavities)"
   ]
  },
  {
   "cell_type": "code",
   "execution_count": 19,
   "metadata": {},
   "outputs": [
    {
     "name": "stdout",
     "output_type": "stream",
     "text": [
      "Similarity level 0.7\n",
      "1E8X\n",
      "1RDQ\n",
      "/home/anton_maximov/BACHELOR/Isomif/hive/pdb/1E8X.pdb\n",
      "Added hydrogens to 1E8X.pdb\n",
      "perl/home/anton_maximov/BACHELOR/Isomif/IsoMif-master/mifView.pl -m /home/anton_maximov/BACHELOR/Isomif/hive/mifs/1E8Xh_1.mif -o /home/anton_maximov/BACHELOR/Isomif/hive/mifView\n",
      "Calculated MIFs of 1 the biggest cavities in 1E8Xh.pdb\n",
      "/home/anton_maximov/BACHELOR/Isomif/hive/pdb/1RDQ.pdb\n",
      "Added hydrogens to 1RDQ.pdb\n",
      "perl/home/anton_maximov/BACHELOR/Isomif/IsoMif-master/mifView.pl -m /home/anton_maximov/BACHELOR/Isomif/hive/mifs/1RDQh_1.mif -o /home/anton_maximov/BACHELOR/Isomif/hive/mifView\n",
      "Calculated MIFs of 1 the biggest cavities in 1RDQh.pdb\n"
     ]
    }
   ],
   "source": [
    "import DATABASES_SMILES as db\n",
    "uniprot1 = 'P00734'  # Prothrombin\n",
    "uniprot2 = 'P00736'  # Cetuximab\\\n",
    "i1 = 1\n",
    "i2 = 1\n",
    "pdb1 = aux.get_pdbs_from_uniprot(uniprot1, PDB_PATH)[2]\n",
    "pdb2 = aux.get_pdbs_from_uniprot(uniprot2, PDB_PATH)[3]\n",
    "pdb1 = '1E8X'\n",
    "pdb2 = '1RDQ'\n",
    "print(pdb1)\n",
    "print(pdb2)\n",
    "mif_from_pdb_simple(pdb1, i1)\n",
    "mif_from_pdb_simple(pdb2, i2)\n",
    "#calc_isomif(pdb1, pdb2, i1, i2)\n",
    "#return get_tanimoto_from_isomif_file(pdb1, pdb2, i1, i2)"
   ]
  },
  {
   "cell_type": "code",
   "execution_count": 20,
   "metadata": {},
   "outputs": [
    {
     "name": "stdout",
     "output_type": "stream",
     "text": [
      "/home/anton_maximov/BACHELOR/Isomif/IsoMif-master/isomif_linux_x86_64_compiled -p1 /home/anton_maximov/BACHELOR/Isomif/hive/mifs/1E8Xh_1.mif -p2 /home/anton_maximov/BACHELOR/Isomif/hive/mifs/1RDQh_1.mif -o /home/anton_maximov/BACHELOR/Isomif/hive/match/ -c 1 -d 2.0\n"
     ]
    },
    {
     "ename": "CalledProcessError",
     "evalue": "Command '['/home/anton_maximov/BACHELOR/Isomif/IsoMif-master/isomif_linux_x86_64_compiled', '-p1', '/home/anton_maximov/BACHELOR/Isomif/hive/mifs/1E8Xh_1.mif', '-p2', '/home/anton_maximov/BACHELOR/Isomif/hive/mifs/1RDQh_1.mif', '-o', '/home/anton_maximov/BACHELOR/Isomif/hive/match/', '-c', '1', '-d', '2.0']' died with <Signals.SIGABRT: 6>.",
     "output_type": "error",
     "traceback": [
      "\u001b[0;31m---------------------------------------------------------------------------\u001b[0m",
      "\u001b[0;31mCalledProcessError\u001b[0m                        Traceback (most recent call last)",
      "\u001b[0;32m<ipython-input-20-472e014d2464>\u001b[0m in \u001b[0;36m<module>\u001b[0;34m\u001b[0m\n\u001b[0;32m----> 1\u001b[0;31m \u001b[0mcalc_isomif\u001b[0m\u001b[0;34m(\u001b[0m\u001b[0mpdb1\u001b[0m\u001b[0;34m,\u001b[0m \u001b[0mpdb2\u001b[0m\u001b[0;34m,\u001b[0m \u001b[0mi1\u001b[0m\u001b[0;34m,\u001b[0m \u001b[0mi2\u001b[0m\u001b[0;34m)\u001b[0m\u001b[0;34m\u001b[0m\u001b[0;34m\u001b[0m\u001b[0m\n\u001b[0m",
      "\u001b[0;32m<ipython-input-18-97c06213ff87>\u001b[0m in \u001b[0;36mcalc_isomif\u001b[0;34m(pdb1, pdb2, i1, i2, res_isomif, node_variab, vis, res_nodes)\u001b[0m\n\u001b[1;32m    230\u001b[0m                                 \u001b[0;34m'-p2'\u001b[0m\u001b[0;34m,\u001b[0m \u001b[0mstr\u001b[0m\u001b[0;34m(\u001b[0m\u001b[0mPath\u001b[0m\u001b[0;34m(\u001b[0m\u001b[0mHIVE_PATH\u001b[0m\u001b[0;34m)\u001b[0m \u001b[0;34m/\u001b[0m \u001b[0;34m'mifs'\u001b[0m \u001b[0;34m/\u001b[0m \u001b[0;34m(\u001b[0m\u001b[0mpdbh2\u001b[0m \u001b[0;34m+\u001b[0m \u001b[0;34m'_'\u001b[0m \u001b[0;34m+\u001b[0m \u001b[0mstr\u001b[0m\u001b[0;34m(\u001b[0m\u001b[0mi2\u001b[0m\u001b[0;34m)\u001b[0m \u001b[0;34m+\u001b[0m \u001b[0;34m'.mif'\u001b[0m\u001b[0;34m)\u001b[0m\u001b[0;34m)\u001b[0m\u001b[0;34m,\u001b[0m\u001b[0;34m\u001b[0m\u001b[0;34m\u001b[0m\u001b[0m\n\u001b[1;32m    231\u001b[0m                                 \u001b[0;34m'-o'\u001b[0m\u001b[0;34m,\u001b[0m \u001b[0mos\u001b[0m\u001b[0;34m.\u001b[0m\u001b[0mpath\u001b[0m\u001b[0;34m.\u001b[0m\u001b[0mjoin\u001b[0m\u001b[0;34m(\u001b[0m\u001b[0mstr\u001b[0m\u001b[0;34m(\u001b[0m\u001b[0mPath\u001b[0m\u001b[0;34m(\u001b[0m\u001b[0mHIVE_PATH\u001b[0m\u001b[0;34m)\u001b[0m \u001b[0;34m/\u001b[0m \u001b[0;34m'match'\u001b[0m\u001b[0;34m)\u001b[0m\u001b[0;34m,\u001b[0m \u001b[0;34m''\u001b[0m\u001b[0;34m)\u001b[0m\u001b[0;34m,\u001b[0m\u001b[0;34m\u001b[0m\u001b[0;34m\u001b[0m\u001b[0m\n\u001b[0;32m--> 232\u001b[0;31m                                 \u001b[0;34m'-c'\u001b[0m\u001b[0;34m,\u001b[0m \u001b[0mstr\u001b[0m\u001b[0;34m(\u001b[0m\u001b[0mres_isomif\u001b[0m\u001b[0;34m)\u001b[0m\u001b[0;34m,\u001b[0m \u001b[0;34m'-d'\u001b[0m\u001b[0;34m,\u001b[0m \u001b[0mstr\u001b[0m\u001b[0;34m(\u001b[0m\u001b[0mnode_variab\u001b[0m\u001b[0;34m)\u001b[0m\u001b[0;34m,\u001b[0m\u001b[0;34m\u001b[0m\u001b[0;34m\u001b[0m\u001b[0m\n\u001b[0m\u001b[1;32m    233\u001b[0m                                 ])\n\u001b[1;32m    234\u001b[0m \u001b[0;34m\u001b[0m\u001b[0m\n",
      "\u001b[0;32m~/anaconda3/lib/python3.7/subprocess.py\u001b[0m in \u001b[0;36mcheck_output\u001b[0;34m(timeout, *popenargs, **kwargs)\u001b[0m\n\u001b[1;32m    393\u001b[0m \u001b[0;34m\u001b[0m\u001b[0m\n\u001b[1;32m    394\u001b[0m     return run(*popenargs, stdout=PIPE, timeout=timeout, check=True,\n\u001b[0;32m--> 395\u001b[0;31m                **kwargs).stdout\n\u001b[0m\u001b[1;32m    396\u001b[0m \u001b[0;34m\u001b[0m\u001b[0m\n\u001b[1;32m    397\u001b[0m \u001b[0;34m\u001b[0m\u001b[0m\n",
      "\u001b[0;32m~/anaconda3/lib/python3.7/subprocess.py\u001b[0m in \u001b[0;36mrun\u001b[0;34m(input, capture_output, timeout, check, *popenargs, **kwargs)\u001b[0m\n\u001b[1;32m    485\u001b[0m         \u001b[0;32mif\u001b[0m \u001b[0mcheck\u001b[0m \u001b[0;32mand\u001b[0m \u001b[0mretcode\u001b[0m\u001b[0;34m:\u001b[0m\u001b[0;34m\u001b[0m\u001b[0;34m\u001b[0m\u001b[0m\n\u001b[1;32m    486\u001b[0m             raise CalledProcessError(retcode, process.args,\n\u001b[0;32m--> 487\u001b[0;31m                                      output=stdout, stderr=stderr)\n\u001b[0m\u001b[1;32m    488\u001b[0m     \u001b[0;32mreturn\u001b[0m \u001b[0mCompletedProcess\u001b[0m\u001b[0;34m(\u001b[0m\u001b[0mprocess\u001b[0m\u001b[0;34m.\u001b[0m\u001b[0margs\u001b[0m\u001b[0;34m,\u001b[0m \u001b[0mretcode\u001b[0m\u001b[0;34m,\u001b[0m \u001b[0mstdout\u001b[0m\u001b[0;34m,\u001b[0m \u001b[0mstderr\u001b[0m\u001b[0;34m)\u001b[0m\u001b[0;34m\u001b[0m\u001b[0;34m\u001b[0m\u001b[0m\n\u001b[1;32m    489\u001b[0m \u001b[0;34m\u001b[0m\u001b[0m\n",
      "\u001b[0;31mCalledProcessError\u001b[0m: Command '['/home/anton_maximov/BACHELOR/Isomif/IsoMif-master/isomif_linux_x86_64_compiled', '-p1', '/home/anton_maximov/BACHELOR/Isomif/hive/mifs/1E8Xh_1.mif', '-p2', '/home/anton_maximov/BACHELOR/Isomif/hive/mifs/1RDQh_1.mif', '-o', '/home/anton_maximov/BACHELOR/Isomif/hive/match/', '-c', '1', '-d', '2.0']' died with <Signals.SIGABRT: 6>."
     ]
    }
   ],
   "source": [
    "calc_isomif(pdb1, pdb2, i1, i2)"
   ]
  },
  {
   "cell_type": "code",
   "execution_count": null,
   "metadata": {},
   "outputs": [],
   "source": [
    "pdb1 = input()\n",
    "pdb2 = input()\n",
    "print(\"How many clefts to find? \\nType two numbers consequently\")\n",
    "i1 = input()\n",
    "i2 = input()\n",
    "\n"
   ]
  },
  {
   "cell_type": "code",
   "execution_count": 2,
   "metadata": {},
   "outputs": [
    {
     "ename": "CalledProcessError",
     "evalue": "Command '['/media/anton/b8150e49-6ff0-467b-ad66-40347e8bb188/anton/BACHELOR/IsoMif-master/isomif_linux_x86_64_compiled', '-p1', '/media/anton/b8150e49-6ff0-467b-ad66-40347e8bb188/anton/BACHELOR/hive/mifs/1A3Bh_1.mif', '-p2', '/media/anton/b8150e49-6ff0-467b-ad66-40347e8bb188/anton/BACHELOR/hive/mifs/1MD7h_1.mif', '-o', '/media/anton/b8150e49-6ff0-467b-ad66-40347e8bb188/anton/BACHELOR/hive/match/', '-c', '1', '-d', '2.0']' died with <Signals.SIGABRT: 6>.",
     "output_type": "error",
     "traceback": [
      "\u001b[0;31m---------------------------------------------------------------------------\u001b[0m",
      "\u001b[0;31mCalledProcessError\u001b[0m                        Traceback (most recent call last)",
      "\u001b[0;32m<ipython-input-2-5afd2e62a8cf>\u001b[0m in \u001b[0;36m<module>\u001b[0;34m\u001b[0m\n\u001b[0;32m----> 1\u001b[0;31m \u001b[0mcalc_isomif\u001b[0m\u001b[0;34m(\u001b[0m\u001b[0mpdb1\u001b[0m\u001b[0;34m,\u001b[0m \u001b[0mpdb2\u001b[0m\u001b[0;34m)\u001b[0m\u001b[0;34m\u001b[0m\u001b[0;34m\u001b[0m\u001b[0m\n\u001b[0m",
      "\u001b[0;32m<ipython-input-1-2e2f72dac123>\u001b[0m in \u001b[0;36mcalc_isomif\u001b[0;34m(pdb1, pdb2, i1, i2, res, node_variab, vis, res_nodes)\u001b[0m\n\u001b[1;32m    188\u001b[0m                             \u001b[0;34m'-p2'\u001b[0m\u001b[0;34m,\u001b[0m \u001b[0mstr\u001b[0m\u001b[0;34m(\u001b[0m\u001b[0mHIVE_PATH\u001b[0m \u001b[0;34m/\u001b[0m \u001b[0;34m'mifs'\u001b[0m \u001b[0;34m/\u001b[0m \u001b[0;34m(\u001b[0m\u001b[0mpdb2\u001b[0m \u001b[0;34m+\u001b[0m \u001b[0;34m'h_'\u001b[0m \u001b[0;34m+\u001b[0m \u001b[0mstr\u001b[0m\u001b[0;34m(\u001b[0m\u001b[0mi2\u001b[0m\u001b[0;34m)\u001b[0m \u001b[0;34m+\u001b[0m \u001b[0;34m'.mif'\u001b[0m\u001b[0;34m)\u001b[0m\u001b[0;34m)\u001b[0m\u001b[0;34m,\u001b[0m\u001b[0;34m\u001b[0m\u001b[0;34m\u001b[0m\u001b[0m\n\u001b[1;32m    189\u001b[0m                             \u001b[0;34m'-o'\u001b[0m\u001b[0;34m,\u001b[0m \u001b[0mos\u001b[0m\u001b[0;34m.\u001b[0m\u001b[0mpath\u001b[0m\u001b[0;34m.\u001b[0m\u001b[0mjoin\u001b[0m\u001b[0;34m(\u001b[0m\u001b[0mstr\u001b[0m\u001b[0;34m(\u001b[0m\u001b[0mHIVE_PATH\u001b[0m \u001b[0;34m/\u001b[0m \u001b[0;34m'match'\u001b[0m\u001b[0;34m)\u001b[0m\u001b[0;34m,\u001b[0m \u001b[0;34m''\u001b[0m\u001b[0;34m)\u001b[0m\u001b[0;34m,\u001b[0m\u001b[0;34m\u001b[0m\u001b[0;34m\u001b[0m\u001b[0m\n\u001b[0;32m--> 190\u001b[0;31m                             \u001b[0;34m'-c'\u001b[0m\u001b[0;34m,\u001b[0m \u001b[0mstr\u001b[0m\u001b[0;34m(\u001b[0m\u001b[0mres\u001b[0m\u001b[0;34m)\u001b[0m\u001b[0;34m,\u001b[0m \u001b[0;34m'-d'\u001b[0m\u001b[0;34m,\u001b[0m \u001b[0mstr\u001b[0m\u001b[0;34m(\u001b[0m\u001b[0mnode_variab\u001b[0m\u001b[0;34m)\u001b[0m\u001b[0;34m,\u001b[0m\u001b[0;34m\u001b[0m\u001b[0;34m\u001b[0m\u001b[0m\n\u001b[0m\u001b[1;32m    191\u001b[0m                             ])\n\u001b[1;32m    192\u001b[0m     \u001b[0;32mif\u001b[0m \u001b[0mvis\u001b[0m\u001b[0;34m:\u001b[0m\u001b[0;34m\u001b[0m\u001b[0;34m\u001b[0m\u001b[0m\n",
      "\u001b[0;32m/media/anton/b8150e49-6ff0-467b-ad66-40347e8bb188/anton/anaconda3/envs/py37/lib/python3.7/subprocess.py\u001b[0m in \u001b[0;36mcheck_output\u001b[0;34m(timeout, *popenargs, **kwargs)\u001b[0m\n\u001b[1;32m    393\u001b[0m \u001b[0;34m\u001b[0m\u001b[0m\n\u001b[1;32m    394\u001b[0m     return run(*popenargs, stdout=PIPE, timeout=timeout, check=True,\n\u001b[0;32m--> 395\u001b[0;31m                **kwargs).stdout\n\u001b[0m\u001b[1;32m    396\u001b[0m \u001b[0;34m\u001b[0m\u001b[0m\n\u001b[1;32m    397\u001b[0m \u001b[0;34m\u001b[0m\u001b[0m\n",
      "\u001b[0;32m/media/anton/b8150e49-6ff0-467b-ad66-40347e8bb188/anton/anaconda3/envs/py37/lib/python3.7/subprocess.py\u001b[0m in \u001b[0;36mrun\u001b[0;34m(input, capture_output, timeout, check, *popenargs, **kwargs)\u001b[0m\n\u001b[1;32m    485\u001b[0m         \u001b[0;32mif\u001b[0m \u001b[0mcheck\u001b[0m \u001b[0;32mand\u001b[0m \u001b[0mretcode\u001b[0m\u001b[0;34m:\u001b[0m\u001b[0;34m\u001b[0m\u001b[0;34m\u001b[0m\u001b[0m\n\u001b[1;32m    486\u001b[0m             raise CalledProcessError(retcode, process.args,\n\u001b[0;32m--> 487\u001b[0;31m                                      output=stdout, stderr=stderr)\n\u001b[0m\u001b[1;32m    488\u001b[0m     \u001b[0;32mreturn\u001b[0m \u001b[0mCompletedProcess\u001b[0m\u001b[0;34m(\u001b[0m\u001b[0mprocess\u001b[0m\u001b[0;34m.\u001b[0m\u001b[0margs\u001b[0m\u001b[0;34m,\u001b[0m \u001b[0mretcode\u001b[0m\u001b[0;34m,\u001b[0m \u001b[0mstdout\u001b[0m\u001b[0;34m,\u001b[0m \u001b[0mstderr\u001b[0m\u001b[0;34m)\u001b[0m\u001b[0;34m\u001b[0m\u001b[0;34m\u001b[0m\u001b[0m\n\u001b[1;32m    489\u001b[0m \u001b[0;34m\u001b[0m\u001b[0m\n",
      "\u001b[0;31mCalledProcessError\u001b[0m: Command '['/media/anton/b8150e49-6ff0-467b-ad66-40347e8bb188/anton/BACHELOR/IsoMif-master/isomif_linux_x86_64_compiled', '-p1', '/media/anton/b8150e49-6ff0-467b-ad66-40347e8bb188/anton/BACHELOR/hive/mifs/1A3Bh_1.mif', '-p2', '/media/anton/b8150e49-6ff0-467b-ad66-40347e8bb188/anton/BACHELOR/hive/mifs/1MD7h_1.mif', '-o', '/media/anton/b8150e49-6ff0-467b-ad66-40347e8bb188/anton/BACHELOR/hive/match/', '-c', '1', '-d', '2.0']' died with <Signals.SIGABRT: 6>."
     ]
    }
   ],
   "source": [
    "calc_isomif(pdb1, pdb2)"
   ]
  },
  {
   "cell_type": "code",
   "execution_count": 4,
   "metadata": {},
   "outputs": [
    {
     "name": "stdout",
     "output_type": "stream",
     "text": [
      "/home/anton_maximov/anaconda3/bin:/home/anton_maximov/anaconda3/bin:/home/anton_maximov/anaconda3/condabin:/home/anton_maximov/bin:/home/anton_maximov/.local/bin:/usr/local/sbin:/usr/local/bin:/usr/sbin:/usr/bin:/sbin:/bin:/usr/games:/usr/local/games:/snap/bin\n"
     ]
    }
   ],
   "source": [
    "import os\n",
    "print(os.environ['PATH'])"
   ]
  },
  {
   "cell_type": "code",
   "execution_count": 18,
   "metadata": {},
   "outputs": [
    {
     "data": {
      "text/plain": [
       "'/media/anton/b8150e49-6ff0-467b-ad66-40347e8bb188/anton/BACHELOR'"
      ]
     },
     "execution_count": 18,
     "metadata": {},
     "output_type": "execute_result"
    }
   ],
   "source": [
    "str(Path(Path('/media/anton/b8150e49-6ff0-467b-ad66-40347e8bb188/anton/BACHELOR')))"
   ]
  },
  {
   "cell_type": "code",
   "execution_count": 31,
   "metadata": {},
   "outputs": [
    {
     "data": {
      "text/plain": [
       "'/media/anton/b8150e49-6ff0-467b-ad66-40347e8bb188/anton/BACHELOR/hive/match/'"
      ]
     },
     "execution_count": 31,
     "metadata": {},
     "output_type": "execute_result"
    }
   ],
   "source": [
    "os.path.join(str(HIVE_PATH / 'match'), '')"
   ]
  },
  {
   "cell_type": "code",
   "execution_count": 2,
   "metadata": {},
   "outputs": [
    {
     "ename": "CalledProcessError",
     "evalue": "Command '['/media/anton/b8150e49-6ff0-467b-ad66-40347e8bb188/anton/BACHELOR/IsoMif-master/isomif_linux_x86_64_compiled', '-p1', '/media/anton/b8150e49-6ff0-467b-ad66-40347e8bb188/anton/BACHELOR/hive/mifs/1E8Xh_1.mif', '-p2', '/media/anton/b8150e49-6ff0-467b-ad66-40347e8bb188/anton/BACHELOR/hive/mifs/1RDQh_1.mif', '-o', '/media/anton/b8150e49-6ff0-467b-ad66-40347e8bb188/anton/BACHELOR/hive/match/', '-c', '1', '-d', '2.0']' died with <Signals.SIGABRT: 6>.",
     "output_type": "error",
     "traceback": [
      "\u001b[0;31m---------------------------------------------------------------------------\u001b[0m",
      "\u001b[0;31mCalledProcessError\u001b[0m                        Traceback (most recent call last)",
      "\u001b[0;32m<ipython-input-2-8d9b01cafeb9>\u001b[0m in \u001b[0;36m<module>\u001b[0;34m\u001b[0m\n\u001b[1;32m     17\u001b[0m                                 ])\n\u001b[1;32m     18\u001b[0m \u001b[0;34m\u001b[0m\u001b[0m\n\u001b[0;32m---> 19\u001b[0;31m \u001b[0mcalc_isomif\u001b[0m\u001b[0;34m(\u001b[0m\u001b[0;34m'1E8X'\u001b[0m\u001b[0;34m,\u001b[0m \u001b[0;34m'1RDQ'\u001b[0m\u001b[0;34m,\u001b[0m \u001b[0;36m1\u001b[0m\u001b[0;34m,\u001b[0m \u001b[0;36m1\u001b[0m\u001b[0;34m)\u001b[0m\u001b[0;34m\u001b[0m\u001b[0;34m\u001b[0m\u001b[0m\n\u001b[0m",
      "\u001b[0;32m<ipython-input-2-8d9b01cafeb9>\u001b[0m in \u001b[0;36mcalc_isomif\u001b[0;34m(pdb1, pdb2, i1, i2, res, node_variab, vis, res_nodes)\u001b[0m\n\u001b[1;32m      8\u001b[0m                             \u001b[0;34m'-p2'\u001b[0m\u001b[0;34m,\u001b[0m \u001b[0mstr\u001b[0m\u001b[0;34m(\u001b[0m\u001b[0mHIVE_PATH\u001b[0m \u001b[0;34m/\u001b[0m \u001b[0;34m'mifs'\u001b[0m \u001b[0;34m/\u001b[0m \u001b[0;34m(\u001b[0m\u001b[0mpdb2\u001b[0m \u001b[0;34m+\u001b[0m \u001b[0;34m'h_'\u001b[0m \u001b[0;34m+\u001b[0m \u001b[0mstr\u001b[0m\u001b[0;34m(\u001b[0m\u001b[0mi2\u001b[0m\u001b[0;34m)\u001b[0m \u001b[0;34m+\u001b[0m \u001b[0;34m'.mif'\u001b[0m\u001b[0;34m)\u001b[0m\u001b[0;34m)\u001b[0m\u001b[0;34m,\u001b[0m\u001b[0;34m\u001b[0m\u001b[0;34m\u001b[0m\u001b[0m\n\u001b[1;32m      9\u001b[0m                             \u001b[0;34m'-o'\u001b[0m\u001b[0;34m,\u001b[0m \u001b[0mos\u001b[0m\u001b[0;34m.\u001b[0m\u001b[0mpath\u001b[0m\u001b[0;34m.\u001b[0m\u001b[0mjoin\u001b[0m\u001b[0;34m(\u001b[0m\u001b[0mstr\u001b[0m\u001b[0;34m(\u001b[0m\u001b[0mHIVE_PATH\u001b[0m \u001b[0;34m/\u001b[0m \u001b[0;34m'match'\u001b[0m\u001b[0;34m)\u001b[0m\u001b[0;34m,\u001b[0m \u001b[0;34m''\u001b[0m\u001b[0;34m)\u001b[0m\u001b[0;34m,\u001b[0m\u001b[0;34m\u001b[0m\u001b[0;34m\u001b[0m\u001b[0m\n\u001b[0;32m---> 10\u001b[0;31m                             \u001b[0;34m'-c'\u001b[0m\u001b[0;34m,\u001b[0m \u001b[0mstr\u001b[0m\u001b[0;34m(\u001b[0m\u001b[0mres\u001b[0m\u001b[0;34m)\u001b[0m\u001b[0;34m,\u001b[0m \u001b[0;34m'-d'\u001b[0m\u001b[0;34m,\u001b[0m \u001b[0mstr\u001b[0m\u001b[0;34m(\u001b[0m\u001b[0mnode_variab\u001b[0m\u001b[0;34m)\u001b[0m\u001b[0;34m,\u001b[0m\u001b[0;34m\u001b[0m\u001b[0;34m\u001b[0m\u001b[0m\n\u001b[0m\u001b[1;32m     11\u001b[0m                             ])\n\u001b[1;32m     12\u001b[0m     \u001b[0;32mif\u001b[0m \u001b[0mvis\u001b[0m\u001b[0;34m:\u001b[0m\u001b[0;34m\u001b[0m\u001b[0;34m\u001b[0m\u001b[0m\n",
      "\u001b[0;32m/media/anton/b8150e49-6ff0-467b-ad66-40347e8bb188/anton/anaconda3/envs/py37/lib/python3.7/subprocess.py\u001b[0m in \u001b[0;36mcheck_output\u001b[0;34m(timeout, *popenargs, **kwargs)\u001b[0m\n\u001b[1;32m    393\u001b[0m \u001b[0;34m\u001b[0m\u001b[0m\n\u001b[1;32m    394\u001b[0m     return run(*popenargs, stdout=PIPE, timeout=timeout, check=True,\n\u001b[0;32m--> 395\u001b[0;31m                **kwargs).stdout\n\u001b[0m\u001b[1;32m    396\u001b[0m \u001b[0;34m\u001b[0m\u001b[0m\n\u001b[1;32m    397\u001b[0m \u001b[0;34m\u001b[0m\u001b[0m\n",
      "\u001b[0;32m/media/anton/b8150e49-6ff0-467b-ad66-40347e8bb188/anton/anaconda3/envs/py37/lib/python3.7/subprocess.py\u001b[0m in \u001b[0;36mrun\u001b[0;34m(input, capture_output, timeout, check, *popenargs, **kwargs)\u001b[0m\n\u001b[1;32m    485\u001b[0m         \u001b[0;32mif\u001b[0m \u001b[0mcheck\u001b[0m \u001b[0;32mand\u001b[0m \u001b[0mretcode\u001b[0m\u001b[0;34m:\u001b[0m\u001b[0;34m\u001b[0m\u001b[0;34m\u001b[0m\u001b[0m\n\u001b[1;32m    486\u001b[0m             raise CalledProcessError(retcode, process.args,\n\u001b[0;32m--> 487\u001b[0;31m                                      output=stdout, stderr=stderr)\n\u001b[0m\u001b[1;32m    488\u001b[0m     \u001b[0;32mreturn\u001b[0m \u001b[0mCompletedProcess\u001b[0m\u001b[0;34m(\u001b[0m\u001b[0mprocess\u001b[0m\u001b[0;34m.\u001b[0m\u001b[0margs\u001b[0m\u001b[0;34m,\u001b[0m \u001b[0mretcode\u001b[0m\u001b[0;34m,\u001b[0m \u001b[0mstdout\u001b[0m\u001b[0;34m,\u001b[0m \u001b[0mstderr\u001b[0m\u001b[0;34m)\u001b[0m\u001b[0;34m\u001b[0m\u001b[0;34m\u001b[0m\u001b[0m\n\u001b[1;32m    489\u001b[0m \u001b[0;34m\u001b[0m\u001b[0m\n",
      "\u001b[0;31mCalledProcessError\u001b[0m: Command '['/media/anton/b8150e49-6ff0-467b-ad66-40347e8bb188/anton/BACHELOR/IsoMif-master/isomif_linux_x86_64_compiled', '-p1', '/media/anton/b8150e49-6ff0-467b-ad66-40347e8bb188/anton/BACHELOR/hive/mifs/1E8Xh_1.mif', '-p2', '/media/anton/b8150e49-6ff0-467b-ad66-40347e8bb188/anton/BACHELOR/hive/mifs/1RDQh_1.mif', '-o', '/media/anton/b8150e49-6ff0-467b-ad66-40347e8bb188/anton/BACHELOR/hive/match/', '-c', '1', '-d', '2.0']' died with <Signals.SIGABRT: 6>."
     ]
    }
   ],
   "source": [
    "calc_isomif('1E8X', '1RDQ', 1, 1)"
   ]
  },
  {
   "cell_type": "code",
   "execution_count": 185,
   "metadata": {},
   "outputs": [
    {
     "name": "stdout",
     "output_type": "stream",
     "text": [
      "0.0269\n"
     ]
    }
   ],
   "source": [
    "print(get_morimoto_from_isomif_file('1E8Xh_match_1RDQh.isomif'))"
   ]
  },
  {
   "cell_type": "markdown",
   "metadata": {},
   "source": [
    "with selection of the contact residue"
   ]
  },
  {
   "cell_type": "code",
   "execution_count": 34,
   "metadata": {},
   "outputs": [
    {
     "name": "stdout",
     "output_type": "stream",
     "text": [
      "1E8X ATP3000A-\n",
      "1RDQ ATP600EB\n"
     ]
    }
   ],
   "source": [
    "pdbs = ['1E8X', '1RDQ']\n",
    "ligands = ['ATP3000A-', 'ATP600EB']\n",
    "\n",
    "# make clefts\n",
    "#./Get_Cleft-master/Get_Cleft -p ./hive/pdb/1E8X.pdb -o ./hive/clefts/1E8X -s -t 5 \n",
    "for (pdb, lig) in zip(pdbs, ligands):\n",
    "    print(pdb, lig)\n",
    "    cmd(str(GET_CLEFT_PATH / 'Get_Cleft') \\\n",
    "        + ' -p ' + str(PDB_PATH / (pdb +'.pdb')) \\\n",
    "        + ' -o ' + str(HIVE_PATH / 'clefts' / pdb) \\\n",
    "        + ' -s -a ' + lig\n",
    "       )"
   ]
  },
  {
   "cell_type": "markdown",
   "metadata": {},
   "source": [
    "## Calculating MIF"
   ]
  },
  {
   "cell_type": "markdown",
   "metadata": {},
   "source": [
    "if knowing residue"
   ]
  },
  {
   "cell_type": "code",
   "execution_count": 41,
   "metadata": {},
   "outputs": [],
   "source": [
    "# calculate MIF\n",
    "k = 0 # make search by suffix?\n",
    "for (pdb, lig) in zip(pdbs, ligands):\n",
    "    k += 1\n",
    "    cmd(str(ISOMIF_PATH / MIF_NAME) + ' -p ' + str(PDB_PATH / (pdb + 'h.pdb')) \\\n",
    "        + ' -g ' + str(HIVE_PATH / 'clefts' / (pdb + '_' + lig + '_sph_' + str(k) + '.pdb')) \\\n",
    "        + ' -o ' + str(HIVE_PATH / 'mifs') \\\n",
    "        + ' -l ' + lig \\\n",
    "        + ' -r 3 -t ' + pdb\n",
    "       )"
   ]
  },
  {
   "cell_type": "markdown",
   "metadata": {},
   "source": [
    "## Calculating IsoMIF"
   ]
  },
  {
   "cell_type": "code",
   "execution_count": 58,
   "metadata": {},
   "outputs": [],
   "source": [
    "# calculate ISOMIF\n",
    "pdbh1 = '1E8Xh'\n",
    "pdbh2 = '1RDQh'\n",
    "cmd(str(ISOMIF_PATH / ISOMIF_NAME) \\\n",
    "    + ' -p1 ' + str(HIVE_PATH / 'mifs' / (pdbh1 + '.mif')) \\\n",
    "    + ' -p2 ' + str(HIVE_PATH / 'mifs' / (pdbh2 + '.mif')) \\\n",
    "    + ' -o ' + os.path.join(str(HIVE_PATH / 'match'), '') \\\n",
    "    + ' -c 1 -d 2.0'\n",
    "   )"
   ]
  },
  {
   "cell_type": "code",
   "execution_count": 59,
   "metadata": {},
   "outputs": [
    {
     "name": "stdout",
     "output_type": "stream",
     "text": [
      "hive/match/1E8Xh_match_1RDQh.isomif\n"
     ]
    }
   ],
   "source": [
    "print(str(HIVE / 'match' / (pdbh1 + '_match_' + pdbh2 + '.isomif')))\n",
    "cmd('perl ' + str(ISOMIF_PATH / 'isoMifView.pl') + ' -m ' \\\n",
    "    + str(HIVE / 'match' / (pdbh1 + '_match_' + pdbh2 + '.isomif')) + ' -o ' \\\n",
    "    + os.path.join(str(HIVE_PATH / 'matchView'), '') + ' -g 1'\n",
    "   )"
   ]
  }
 ],
 "metadata": {
  "kernelspec": {
   "display_name": "Python 3",
   "language": "python",
   "name": "python3"
  },
  "language_info": {
   "codemirror_mode": {
    "name": "ipython",
    "version": 3
   },
   "file_extension": ".py",
   "mimetype": "text/x-python",
   "name": "python",
   "nbconvert_exporter": "python",
   "pygments_lexer": "ipython3",
   "version": "3.7.3"
  }
 },
 "nbformat": 4,
 "nbformat_minor": 2
}
